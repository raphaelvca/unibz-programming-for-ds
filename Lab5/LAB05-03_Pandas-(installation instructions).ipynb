{
 "cells": [
  {
   "cell_type": "markdown",
   "metadata": {},
   "source": [
    "<!--<img width=700px; src=\"../img/logoUPSayPlusCDS_990.png\"> -->\n",
    "\n",
    "<p style=\"margin-top: 3em; margin-bottom: 2em;\"><b><big><big><big><big>How to: set up for the Pandas assignments</big></big></big></big></b></p>"
   ]
  },
  {
   "cell_type": "markdown",
   "metadata": {},
   "source": [
    "This is a self-learning notebook. There is no need to submit it or prove that you have completed it. It´s for your own benefit and will make your life easier for the bigger project assignment due in January.\n",
    "\n",
    "This unit has been designed for you to familiarize with Pandas, an easy-to-use, very powerful library for data analysis. Like NumPy, Pandas vectorises most of the basic operations and strives to excute multiple operations in parallel, even on a single CPU, resulting in faster computation.<br>\n",
    "Pandas offers much more than what you will learn in this Unit. However, I have made a selection of material and exercises that will provide you with the necessary tools that you'll need in the rest of the course.<br>\n",
    "\n",
    "**Before getting into the Jupyter Notebooks**, I suggest reading a short introductory article:<br> \n",
    "filename: LAB05-04_Pandas operations for beginners (self-learning).pdf<br>\n",
    "\n",
    "**Next**, you'll need to install the datasets and code snippets that will be used in the Jupyter Notebooks. So don't try to open your first Notebook before proceeding with the system set up (you'll get errors otherwise!).<br>\n",
    "\n",
    "Throught this unit, please refer to the documentation of the Pandas library for further details and guidance.<br>\n",
    "https://pandas.pydata.org/"
   ]
  },
  {
   "cell_type": "markdown",
   "metadata": {},
   "source": [
    "## Required libraries\n",
    "This unit requires the following packages:<br>\n",
    "- Python version 2.6-2.7 or 3.3-3.5\n",
    "- Pandas version 0.18.0 or later: http://pandas.pydata.org/\n",
    "- Numpy version 1.7 or later: http://www.numpy.org/\n",
    "- matplotlib version 1.3 or later: http://matplotlib.org/\n",
    "- ipython version 3.x with notebook support, or ipython 4.x combined with jupyter: http://ipython.org\n",
    "- seaborn (this is used for some statistical data visualizations): http://stanford.edu/~mwaskom/software/seaborn/\n",
    "\n",
    "So if you are running code in your own computer and you get errors, make sure all above packages are accessible in your set up."
   ]
  },
  {
   "cell_type": "markdown",
   "metadata": {},
   "source": [
    "## Installation of datasets and code snippets\n",
    "The notebooks used in this unit, make use of real-life datasets and reuse some phython code. You'll need to install 3 folders in the same directory where your Jupyter Notebooks are located:<br>\n",
    "folder: **data** (all datasets are included here)<br>\n",
    "folder: **img** (some images are included here)<br>\n",
    "folder: **snippets** (some python code is included here)<br>\n",
    "<br>\n"
   ]
  },
  {
   "cell_type": "markdown",
   "metadata": {},
   "source": [
    "## Study advise\n",
    "For an easier understanding of the material, it is imperative that you complete each unit before starting a new one. If you are struggling with some topics, please ask for help during the lab sessions, or post queries to the relevant Teams Channel.\n",
    "\n",
    "Now install the datasets and proceed directly to your first notebook:<br>\n",
    "\"LAB05-05_Pandas_introduction (ASSIGNMENT 5)\"<br>\n",
    "<br>\n",
    "**N.B.** Make every possible effort to solve all the open questions. However, if you find some exercises to be too time consuming, **don't get stuck**. It is also important that you make progress. You can always go back to the most difficult questions at a later time and check whether you can solve them."
   ]
  }
 ],
 "metadata": {
  "celltoolbar": "Nbtutor - export exercises",
  "kernelspec": {
   "display_name": "Python 3",
   "language": "python",
   "name": "python3"
  },
  "language_info": {
   "codemirror_mode": {
    "name": "ipython",
    "version": 3
   },
   "file_extension": ".py",
   "mimetype": "text/x-python",
   "name": "python",
   "nbconvert_exporter": "python",
   "pygments_lexer": "ipython3",
   "version": "3.8.3"
  },
  "nav_menu": {},
  "toc": {
   "navigate_menu": true,
   "number_sections": false,
   "sideBar": true,
   "threshold": 6,
   "toc_cell": false,
   "toc_section_display": "block",
   "toc_window_display": true
  }
 },
 "nbformat": 4,
 "nbformat_minor": 2
}
