{
 "cells": [
  {
   "cell_type": "markdown",
   "metadata": {
    "slideshow": {
     "slide_type": "skip"
    }
   },
   "source": [
    "*This notebook has been **significantly** modified from the original notebook available online, as detailed next. This notebook contains an excerpt from the [Python Data Science Handbook](http://shop.oreilly.com/product/0636920034919.do) by Jake VanderPlas; the content is available [on GitHub](https://github.com/jakevdp/PythonDataScienceHandbook).*<br>\n",
    "*The text is released under the [CC-BY-NC-ND license](https://creativecommons.org/licenses/by-nc-nd/3.0/us/legalcode), and code is released under the [MIT license](https://opensource.org/licenses/MIT).*"
   ]
  },
  {
   "cell_type": "markdown",
   "metadata": {
    "slideshow": {
     "slide_type": "slide"
    }
   },
   "source": [
    "# What Is Machine Learning?"
   ]
  },
  {
   "cell_type": "markdown",
   "metadata": {
    "slideshow": {
     "slide_type": "subslide"
    }
   },
   "source": [
    "Before we take a look at the details of various machine learning methods, let's start by looking at what machine learning is, and what it isn't.\n",
    "Machine learning is often categorized as a subfield of artificial intelligence, but I find that categorization can often be misleading at first brush.\n",
    "The study of machine learning certainly arose from research in this context, but in the data science application of machine learning methods, \n",
    "\n",
    ">**it's more helpful to think of machine learning as a means of *building models of data*.**<br>\n",
    ">Fundamentally, machine learning involves building **mathematical models to help understand data.**\n",
    "\n",
    "\n",
    "\"Learning\" enters the fray when we give these models ***tunable parameters*** that can be adapted to observed data; in this way the program can be considered to be \"learning\" from the data.\n",
    "Once these models have been fit to previously seen data, they can be used to predict and understand aspects of newly observed data.\n",
    "\n",
    "Understanding the problem setting in machine learning is essential to using these tools effectively, and so we will start with some broad categorizations of the types of approaches we'll discuss here."
   ]
  },
  {
   "cell_type": "markdown",
   "metadata": {
    "slideshow": {
     "slide_type": "slide"
    }
   },
   "source": [
    "## Categories of Machine Learning\n",
    "\n",
    "**Supervised learning** involves somehow *modeling the relationship between measured features of data and some label* associated with the data; once this model is determined, it can be used to *apply labels to new, unknown data*.\n",
    "This is further subdivided into *classification* tasks and *regression* tasks: \n",
    ">* **classification**, the labels are discrete categories; \n",
    ">* **regression**, the labels are continuous quantities.<br>\n",
    ">(*examples will be provided next*)\n",
    "\n",
    "\n",
    "**Unsupervised learning** involves *modeling the features of a dataset without reference to any label*, and is often described as *letting the dataset speak for itself.*\n",
    "These models include tasks such as *clustering* and *dimensionality reduction.*\n",
    ">* **Clustering** algorithms identify distinct groups of data; \n",
    ">* **Dimensionality** reduction algorithms search for more succinct representations of the data.<br>\n",
    ">(*examples will be provided next*)\n",
    "\n",
    "In addition, there are so-called *semi-supervised learning* methods, which falls somewhere between supervised learning and unsupervised learning.\n",
    "\n",
    "**Semi-supervised learning** methods are often useful when only incomplete labels are available."
   ]
  },
  {
   "cell_type": "markdown",
   "metadata": {
    "slideshow": {
     "slide_type": "slide"
    }
   },
   "source": [
    "## Qualitative Examples of Machine Learning Applications\n",
    "\n",
    "To make these ideas more concrete, let's take a look at a few very **simple examples of a machine learning task**.\n",
    "These examples are meant to give an intuitive, non-quantitative overview of different types of machine learning tasks.\n",
    "\n",
    "In later notebooks, we will go into more depth regarding the particular models and how they are used and implemented with Python libraries.\n"
   ]
  },
  {
   "cell_type": "markdown",
   "metadata": {
    "slideshow": {
     "slide_type": "slide"
    }
   },
   "source": [
    "### Classification: Predicting discrete labels\n",
    "\n",
    "A simple *classification* task: you are given a set of labeled points and want to use these to classify some unlabeled points.\n",
    "Imagine that we have the data shown in this figure:"
   ]
  },
  {
   "cell_type": "markdown",
   "metadata": {
    "slideshow": {
     "slide_type": "subslide"
    }
   },
   "source": [
    "![](figures/05.01-classification-1.png)"
   ]
  },
  {
   "cell_type": "markdown",
   "metadata": {
    "slideshow": {
     "slide_type": "subslide"
    }
   },
   "source": [
    "Here we have **two-dimensional data**: that is, we have **two features for each point**, represented by the *(x,y)* positions of the points on the plane. In addition, we have one of **two class labels for each point**, here represented by the colors of the points.\n",
    ">From these features and labels, we would like to create a model that will let us decide whether a new point should be labeled \"blue\" or \"red.\""
   ]
  },
  {
   "cell_type": "markdown",
   "metadata": {
    "slideshow": {
     "slide_type": "slide"
    }
   },
   "source": [
    "There are a number of possible models for such a classification task, but we´ll first use an extremely simple one. \n",
    ">**We will make the assumption that the two groups can be separated by drawing a straight line through the plane between them** \n",
    "\n",
    "such that points on each side of the line fall in the same group.\n",
    "Here the **model** is a quantitative version of the statement \"a straight line separates the classes\", while the **model parameters** are the particular numbers describing the location and orientation of that line for our data.\n",
    "The optimal values for these model parameters are learned from the data (this is the \"learning\" in machine learning), which is often called *training the model*."
   ]
  },
  {
   "cell_type": "markdown",
   "metadata": {
    "slideshow": {
     "slide_type": "slide"
    }
   },
   "source": [
    "The following figure shows a visual representation of what the trained model looks like for this data:\n",
    "![](figures/05.01-classification-2.png)"
   ]
  },
  {
   "cell_type": "markdown",
   "metadata": {
    "slideshow": {
     "slide_type": "slide"
    }
   },
   "source": [
    "### We can now use the trained model to assign labels to new data points\n",
    "This stage is usually called **prediction**. See the following figure:"
   ]
  },
  {
   "cell_type": "markdown",
   "metadata": {
    "slideshow": {
     "slide_type": "subslide"
    }
   },
   "source": [
    "![](figures/05.01-classification-3.png)\n"
   ]
  },
  {
   "cell_type": "markdown",
   "metadata": {
    "slideshow": {
     "slide_type": "slide"
    }
   },
   "source": [
    "This is the basic idea of a classification task in machine learning, where **classification indicates that the data has discrete class labels.**\n",
    "\n",
    "A benefit of the machine learning approach, is that it can **generalize to much larger datasets in many more dimensions**.\n",
    "\n",
    "## Automated spam detection\n",
    "For automated spam detection for email, we might use the following features and labels:\n",
    "\n",
    "- *feature 1*, *feature 2*, etc. $\\to$ normalized counts of important words or phrases (\"Viagra\", \"Nigerian prince\", etc.)\n",
    "- *label* $\\to$ \"spam\" or \"not spam\"\n",
    "\n",
    "For the training set, these labels might be determined by individual inspection of a small representative sample of emails; for the remaining emails, the label would be determined using the model.\n",
    "\n",
    "For a suitably trained classification algorithm with enough well-constructed features (typically thousands or millions of words or phrases), this type of approach can be very effective.\n",
    "\n",
    "An examplary method to perform such text-based classification is **Naive Bayes Classification**. Other methods include: **Gaussian naive Bayes**; **support vector machines**; and **random forest** classification.<br><br>\n",
    "... ***stay tuned for more details in our follow-up lectures and notebooks.***"
   ]
  },
  {
   "cell_type": "markdown",
   "metadata": {
    "slideshow": {
     "slide_type": "slide"
    }
   },
   "source": [
    "### Regression: Predicting continuous labels\n",
    "\n",
    "In contrast with the discrete labels of a classification algorithm, we will next look at a **simple *regression* task in which the labels are continuous quantities**."
   ]
  },
  {
   "cell_type": "markdown",
   "metadata": {
    "slideshow": {
     "slide_type": "subslide"
    }
   },
   "source": [
    "Consider the data shown in the following figure, which consists of a set of points each with a **continuous label (the color)**:\n",
    "![](figures/05.01-regression-1.png)"
   ]
  },
  {
   "cell_type": "markdown",
   "metadata": {
    "slideshow": {
     "slide_type": "slide"
    }
   },
   "source": [
    "As with the classification example, we have **two-dimensional data**: that is, there are **two features describing each data point**.\n",
    "\n",
    "There are a number of possible regression models we might use for this type of data, but here **we will use a simple linear regression** to predict the points.\n",
    "\n",
    "This simple linear regression model assumes that if we treat the label as a third spatial dimension, we **can fit a plane to the data.**\n",
    "This is a higher-level generalization of the well-known problem of fitting a line to data with two coordinates.\n"
   ]
  },
  {
   "cell_type": "markdown",
   "metadata": {
    "slideshow": {
     "slide_type": "slide"
    }
   },
   "source": [
    "We can visualize this setup as shown in the following figure:\n",
    "![](figures/05.01-regression-2.png)"
   ]
  },
  {
   "cell_type": "markdown",
   "metadata": {
    "slideshow": {
     "slide_type": "subslide"
    }
   },
   "source": [
    "Notice that the *feature 1-feature 2* plane here is the same as in the two-dimensional plot from before; in this case, however, we have represented the labels by both color and three-dimensional axis position.\n",
    "From this view, it seems reasonable that fitting a plane through this three-dimensional data would allow us to predict the expected label for any set of input parameters.\n"
   ]
  },
  {
   "cell_type": "markdown",
   "metadata": {
    "slideshow": {
     "slide_type": "slide"
    }
   },
   "source": [
    "## Multiple-linear regression\n",
    "Returning to the two-dimensional projection, when we fit such a plane we get the result shown in the following figure:\n",
    "![](figures/05.01-regression-3.png)"
   ]
  },
  {
   "cell_type": "markdown",
   "metadata": {
    "slideshow": {
     "slide_type": "subslide"
    }
   },
   "source": [
    "This plane of fit gives us what we need to predict labels for new points.\n",
    "Visually, we find the results shown in the following figure:\n",
    "![](figures/05.01-regression-4.png)"
   ]
  },
  {
   "cell_type": "markdown",
   "metadata": {
    "slideshow": {
     "slide_type": "slide"
    }
   },
   "source": [
    "As with the classification example, this may seem rather trivial in a low number of dimensions.\n",
    "But the power of these methods is that they can be straightforwardly applied and evaluated in the case of data with many, many features.\n",
    "\n",
    "### Another example of multiple linear regression\n",
    "This is similar to the task of computing the distance to galaxies observed through a telescope—in this case, we might use the following features and labels:\n",
    "\n",
    "- *feature 1*, *feature 2*, etc. $\\to$ brightness of each galaxy at one of several wave lengths or colors\n",
    "- *label* $\\to$ distance or redshift of the galaxy\n",
    "\n",
    "The distances for a small number of these galaxies might be determined through an independent set of (typically more expensive) observations.\n",
    "Distances to remaining galaxies could then be estimated using a suitable regression model, without the need to employ the more expensive observation across the entire set.\n",
    "In astronomy circles, this is known as the \"photometric redshift\" problem.\n",
    "\n",
    "Other regression methods include: **support vector machines**; and **random forest regression**.<br><br>\n",
    "... ***stay tuned for more details in our follow-up lectures and notebooks.***"
   ]
  },
  {
   "cell_type": "markdown",
   "metadata": {
    "slideshow": {
     "slide_type": "slide"
    }
   },
   "source": [
    "## Unsupervised learning\n",
    "The classification and regression illustrations we just looked at are examples of supervised learning algorithms, in which we are trying to build a model that will predict labels for new data.\n",
    "**Unsupervised learning involves models that describe data without reference to any known labels.**\n",
    "\n",
    "### Clustering: Inferring labels on unlabeled data\n",
    "One common case of unsupervised learning is \"clustering,\" in which data is automatically assigned to some number of discrete groups.\n",
    "For example, we might have some two-dimensional data like that shown in the following figure:"
   ]
  },
  {
   "cell_type": "markdown",
   "metadata": {
    "slideshow": {
     "slide_type": "slide"
    }
   },
   "source": [
    "![](figures/05.01-clustering-1.png)\n",
    "By eye, it is clear that each of these points is part of a distinct group."
   ]
  },
  {
   "cell_type": "markdown",
   "metadata": {
    "slideshow": {
     "slide_type": "slide"
    }
   },
   "source": [
    "### *K*-means clustering algorithm\n",
    "Given this input, a clustering model will use the intrinsic structure of the data to determine which points are related.\n",
    "Using the very fast and intuitive *k*-means algorithm, we can find the clusters shown in the following figure:\n",
    "![](figures/05.01-clustering-2.png)"
   ]
  },
  {
   "cell_type": "markdown",
   "metadata": {
    "slideshow": {
     "slide_type": "slide"
    }
   },
   "source": [
    "*k*-means fits a model consisting of *k* cluster centers; the optimal centers are assumed to be those that minimize the distance of each point from its assigned center.\n",
    "Again, this might seem like a trivial exercise in two dimensions, but as our data becomes larger and more complex, such clustering algorithms can be employed to extract useful information from the dataset.\n",
    "<br><br>\n",
    "... ***stay tuned for more details in our follow-up k-means lecture and notebook.***\n",
    "\n",
    ">Other important clustering algorithms include **Gaussian mixture** models; and **spectral clustering** <br>\n",
    "(See [Scikit-Learn's clustering documentation](http://scikit-learn.org/stable/modules/clustering.html))."
   ]
  },
  {
   "cell_type": "markdown",
   "metadata": {
    "slideshow": {
     "slide_type": "slide"
    }
   },
   "source": [
    "### Dimensionality reduction: Inferring structure of unlabeled data\n",
    "\n",
    "Dimensionality reduction is another example of an **unsupervised algorithm**, in which labels or other information are inferred from the structure of the dataset itself.\n",
    "\n",
    "Dimensionality reduction is a bit more abstract than the examples we looked at before, but generally **it seeks to pull out some low-dimensional representation of data that in some way preserves relevant qualities of the full dataset**.\n",
    "\n",
    "Exemplary methods are referred to as **manifold machine learning**."
   ]
  },
  {
   "cell_type": "markdown",
   "metadata": {
    "slideshow": {
     "slide_type": "slide"
    }
   },
   "source": [
    "As an example of this, consider the data shown in the following figure:\n",
    "![](figures/05.01-dimesionality-1.png)\n",
    "Visually, it is clear that **there is some structure in this data: it is drawn from a one-dimensional line that is arranged in a spiral within this two-dimensional space**.\n",
    "In a sense, you could say that this data is \"intrinsically\" only one dimensional, though this one-dimensional data is embedded in higher-dimensional space.\n",
    "A suitable dimensionality reduction model in this case would be sensitive to this nonlinear embedded structure, and be able to pull out this lower-dimensionality representation."
   ]
  },
  {
   "cell_type": "markdown",
   "metadata": {
    "slideshow": {
     "slide_type": "slide"
    }
   },
   "source": [
    "The following figure shows a visualization of the results of the **Isomap (isometric) algorithm**, a manifold learning algorithm that does exactly this:\n",
    "![](figures/05.01-dimesionality-2.png)\n",
    "Notice that the colors (which represent the extracted one-dimensional latent variable) change uniformly along the spiral, which indicates that the algorithm did in fact detect the structure we saw by eye."
   ]
  },
  {
   "cell_type": "markdown",
   "metadata": {
    "slideshow": {
     "slide_type": "slide"
    }
   },
   "source": [
    "### More dimensionality reduction examples\n",
    "As with the previous examples, the power of dimensionality reduction algorithms becomes clearer in higher-dimensional cases.\n",
    "For example, we might wish to visualize important relationships within a dataset that has 100 or 1,000 features.\n",
    "\n",
    "**Visualizing 1,000-dimensional data is a challenge**, and one way we can make this more manageable is to **use a dimensionality reduction technique to reduce the data to two or three dimensions.**\n",
    "\n",
    "Some important dimensionality reduction algorithms include: **principal component analysis**; and various manifold learning algorithms, including **Isomap** and **locally linear embedding**.\n",
    "<br><br>\n",
    "... ***stay tuned for more details in our follow-up PCA lecture and notebook.***\n"
   ]
  },
  {
   "cell_type": "markdown",
   "metadata": {
    "slideshow": {
     "slide_type": "slide"
    }
   },
   "source": [
    "## Summary\n",
    "\n",
    "Here we have seen a few simple examples of some of the basic types of machine learning approaches.\n",
    "Needless to say, there are a number of important practical details that we have glossed over, but I hope this section was enough to give you a basic idea of what types of problems machine learning approaches can solve.\n",
    "\n",
    "In short, we saw the following:\n",
    "\n",
    "- *Supervised learning*: Models that can predict labels based on labeled training data\n",
    "\n",
    "  - *Classification*: Models that predict labels as two or more discrete categories\n",
    "  - *Regression*: Models that predict continuous labels\n",
    "  \n",
    "- *Unsupervised learning*: Models that identify structure in unlabeled data\n",
    "\n",
    "  - *Clustering*: Models that detect and identify distinct groups in the data\n",
    "  - *Dimensionality reduction*: Models that detect and identify lower-dimensional structure in higher-dimensional data\n",
    "  \n",
    "In the following lectures we will go into much greater depth within some of these categories, and see some representative methods, based on examples where these concepts can be useful."
   ]
  }
 ],
 "metadata": {
  "anaconda-cloud": {},
  "kernelspec": {
   "display_name": "Python 3",
   "language": "python",
   "name": "python3"
  },
  "language_info": {
   "codemirror_mode": {
    "name": "ipython",
    "version": 3
   },
   "file_extension": ".py",
   "mimetype": "text/x-python",
   "name": "python",
   "nbconvert_exporter": "python",
   "pygments_lexer": "ipython3",
   "version": "3.8.3"
  }
 },
 "nbformat": 4,
 "nbformat_minor": 1
}
