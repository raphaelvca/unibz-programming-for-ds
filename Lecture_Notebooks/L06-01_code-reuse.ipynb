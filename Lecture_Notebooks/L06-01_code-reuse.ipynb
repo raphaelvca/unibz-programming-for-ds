{
 "cells": [
  {
   "cell_type": "markdown",
   "metadata": {},
   "source": [
    "<h1 id=\"types_objects\" align=\"center\">Code reuse in Python</h1>\n",
    "\n",
    "There are many ways in which we can reuse code. We have seen how **functions** and **classes** can be used to build reusable pieces of code.<br>\n",
    "Let´s know take a look at:<br>\n",
    "    - inheritance\n",
    "    - modules\n",
    "    - import "
   ]
  },
  {
   "cell_type": "markdown",
   "metadata": {},
   "source": [
    "Inheritance\n",
    "===\n",
    "One of the most important goals of the object-oriented approach to programming is the creation of **stable, reliable, reusable code**. If you had to create a new class for every kind of object you wanted to model, you would hardly have any reusable code. In Python and any other language that supports OOP, one class can **inherit** from another class.<br>\n",
    "This means you can base a new class on an existing class; the new class *inherits* all of the attributes and behavior of the class it is based on. A new class can override any undesirable attributes or behavior of the class it inherits from, and it can **add any new attributes or behavior** that are appropriate. The original class is called the **parent** class, and the new class is a **child** of the parent class. The parent class is also called a **superclass**, and the child class is also called a **subclass**.\n",
    "\n",
    "The child class inherits all attributes and behavior from the parent class, but **any attributes that are defined *only* in the child class** are not available to the parent class. This may be obvious to many people, but it is worth stating. This also means **a child class can override behavior of the parent class**. If a child class defines a method that also appears in the parent class, objects of the child class will use the new method rather than the parent class method.\n",
    "\n",
    "To better understand inheritance, let's look at an example of a class that can be based on the Rocket class."
   ]
  },
  {
   "cell_type": "markdown",
   "metadata": {},
   "source": [
    "The SpaceShuttle class\n",
    "---\n",
    "If you wanted to model a space shuttle, you could write an entirely new class. But **a space shuttle is just a special kind of rocket.** Instead of writing an entirely new class, you can inherit all of the attributes and behavior of a Rocket, and then add a few appropriate attributes and behavior for a Shuttle.\n",
    "\n",
    "One of the **most significant characteristics of a space shuttle is that it can be reused**. So the only difference we will add at this point is to **record the number of flights the shutttle has completed**. Everything else you need to know about a shuttle has already been coded into the Rocket class.\n",
    "\n",
    "Here is what the Shuttle class looks like:"
   ]
  },
  {
   "cell_type": "code",
   "execution_count": null,
   "metadata": {},
   "outputs": [],
   "source": [
    "###highlight=[25,26,27,28,29,30,31,32,33,34]\n",
    "from math import sqrt\n",
    "\n",
    "class Rocket():\n",
    "    # Rocket simulates a rocket ship for a game,\n",
    "    #  or a physics simulation.\n",
    "    \n",
    "    def __init__(self, x=0, y=0):\n",
    "        # Each rocket has an (x,y) position.\n",
    "        self.x = x\n",
    "        self.y = y\n",
    "        \n",
    "    def move_rocket(self, x_increment=0, y_increment=1):\n",
    "        # Move the rocket according to the paremeters given.\n",
    "        #  Default behavior is to move the rocket up one unit.\n",
    "        self.x += x_increment\n",
    "        self.y += y_increment\n",
    "        \n",
    "    def get_distance(self, other_rocket):\n",
    "        # Calculates the distance from this rocket to another rocket,\n",
    "        #  and returns that value.\n",
    "        distance = sqrt((self.x-other_rocket.x)**2+(self.y-other_rocket.y)**2)\n",
    "        return distance\n",
    "\n",
    "# The new class Shuttle is inherete from class Rocket\n",
    "class Shuttle(Rocket):\n",
    "    # Shuttle simulates a space shuttle, which is really\n",
    "    # just a reusable rocket.\n",
    "    \n",
    "    def __init__(self, x=0, y=0, flights_completed=0):\n",
    "        # invoking the parent´s __init__ constructor \n",
    "        super().__init__(x, y)\n",
    "        # initializing flights_completed\n",
    "        self.flights_completed = flights_completed\n",
    "\n",
    "# invoking class Shuttle to create object shuttle\n",
    "shuttle = Shuttle(10,0,3)\n",
    "print(shuttle)\n",
    "print(\"Flights completed so far: \", shuttle.flights_completed)"
   ]
  },
  {
   "cell_type": "markdown",
   "metadata": {},
   "source": [
    "When a new class is based on an existing class, you write the name of the parent class in parentheses when you define the new class:\n",
    "\n",
    "    "
   ]
  },
  {
   "cell_type": "markdown",
   "metadata": {},
   "source": [
    "class NewClass(ParentClass):"
   ]
  },
  {
   "cell_type": "markdown",
   "metadata": {},
   "source": [
    "The \\_\\_init\\_\\_() function of the new class needs to call the \\_\\_init\\_\\_() function of the parent class. The \\_\\_init\\_\\_() function of the new class needs to accept all of the parameters required to build an object from the parent class, and these parameters need to be passed to the \\_\\_init\\_\\_() function of the parent class. The **super().\\_\\_init\\_\\_()** function takes care of this:"
   ]
  },
  {
   "cell_type": "code",
   "execution_count": null,
   "metadata": {},
   "outputs": [],
   "source": [
    "# This is just to introduce the syntax of inherited classes\n",
    "\n",
    "#  class NewClass(ParentClass):\n",
    "#      def __init__(self, arguments_new_class, arguments_parent_class):\n",
    "#          super().__init__(arguments_parent_class)\n",
    "#          # Code for initializing an object of the new class."
   ]
  },
  {
   "cell_type": "markdown",
   "metadata": {},
   "source": [
    "The *super()* function passes the *self* argument to the parent class automatically. You could also do this by explicitly naming the parent class when you call the \\_\\_init\\_\\_() function, but you then have to include the *self* argument manually:"
   ]
  },
  {
   "cell_type": "code",
   "execution_count": null,
   "metadata": {},
   "outputs": [],
   "source": [
    "###highlight=[7]\n",
    "class Shuttle(Rocket):\n",
    "    # Shuttle simulates a space shuttle, which is really\n",
    "    #  just a reusable rocket.\n",
    "    \n",
    "    def __init__(self, x=0, y=0, flights_completed=0):\n",
    "        Rocket.__init__(self, x, y)\n",
    "        self.flights_completed = flights_completed"
   ]
  },
  {
   "cell_type": "markdown",
   "metadata": {},
   "source": [
    "This might seem a little easier to read, but it is preferable to use the *super()* syntax.<br>\n",
    "**When you use *super()*, you don't need to explicitly name the parent class**, so <br>\n",
    "**your code is more resilient to later changes**.<br>\n",
    "As you learn more about classes, you will be able to write child classes that inherit from multiple parent classes, and the *super()* function will call the parent classes' \\_\\_init\\_\\_() functions for you, in one line. This explicit approach to calling the parent class' \\_\\_init\\_\\_() function is included so that you will be less confused if you see it in someone else's code."
   ]
  },
  {
   "cell_type": "markdown",
   "metadata": {},
   "source": [
    "The output above shows that a new Shuttle object was created. This new Shuttle object can store the number of flights completed, but it also has all of the functionality of the Rocket class: it has a position that can be changed, and it can calculate the distance between itself and other rockets or shuttles. This can be demonstrated by creating several rockets and shuttles, and then finding the distance between one shuttle and all the other shuttles and rockets. This example uses a simple function called [randint](http://docs.python.org/2/library/random.html#random.randint), which generates a random integer between a lower and upper bound, to determine the position of each rocket and shuttle:"
   ]
  },
  {
   "cell_type": "code",
   "execution_count": null,
   "metadata": {},
   "outputs": [],
   "source": [
    "from math import sqrt\n",
    "\n",
    "# randint generates a random integer between a lower and upper bound\n",
    "from random import randint\n",
    "\n",
    "class Rocket():\n",
    "    # Rocket simulates a rocket ship for a game,\n",
    "    #  or a physics simulation.\n",
    "    \n",
    "    def __init__(self, x=0, y=0):\n",
    "        # Each rocket has an (x,y) position.\n",
    "        self.x = x\n",
    "        self.y = y\n",
    "        \n",
    "    def move_rocket(self, x_increment=0, y_increment=1):\n",
    "        # Move the rocket according to the paremeters given.\n",
    "        #  Default behavior is to move the rocket up one unit.\n",
    "        self.x += x_increment\n",
    "        self.y += y_increment\n",
    "        \n",
    "    def get_distance(self, other_rocket):\n",
    "        # Calculates the distance from this rocket to another rocket,\n",
    "        # and returns that value.\n",
    "        distance = sqrt((self.x-other_rocket.x)**2+(self.y-other_rocket.y)**2)\n",
    "        return distance\n",
    "    \n",
    "class Shuttle(Rocket):\n",
    "    # Shuttle simulates a space shuttle, which is really\n",
    "    # just a reusable rocket.\n",
    "    \n",
    "    def __init__(self, x=0, y=0, flights_completed=0):\n",
    "        super().__init__(x, y)\n",
    "        self.flights_completed = flights_completed\n",
    "        \n",
    "        \n",
    "# Create several shuttles and rockets, with random positions.\n",
    "# Shuttles have a random number of flights completed.\n",
    "shuttles = []\n",
    "for x in range(0,3):\n",
    "    x = randint(0,100)\n",
    "    y = randint(1,100)\n",
    "    flights_completed = randint(0,10)\n",
    "    shuttles.append(Shuttle(x, y, flights_completed))\n",
    "\n",
    "rockets = []\n",
    "for x in range(0,3):\n",
    "    x = randint(0,100)\n",
    "    y = randint(1,100)\n",
    "    rockets.append(Rocket(x, y))\n",
    "    \n",
    "# Show the number of flights completed for each shuttle.\n",
    "for index, shuttle in enumerate(shuttles):\n",
    "    print(\"Shuttle %d has completed %d flights.\" % (index, shuttle.flights_completed))\n",
    "    \n",
    "print(\"\\n\")    \n",
    "# Show the distance from the first shuttle to all other shuttles.\n",
    "first_shuttle = shuttles[0]\n",
    "for index, shuttle in enumerate(shuttles):\n",
    "    distance = first_shuttle.get_distance(shuttle)\n",
    "    print(\"The first shuttle is %f units away from shuttle %d.\" % (distance, index))\n",
    "\n",
    "print(\"\\n\")\n",
    "# Show the distance from the first shuttle to all other rockets.\n",
    "for index, rocket in enumerate(rockets):\n",
    "    distance = first_shuttle.get_distance(rocket)\n",
    "    print(\"The first shuttle is %f units away from rocket %d.\" % (distance, index))"
   ]
  },
  {
   "cell_type": "markdown",
   "metadata": {},
   "source": [
    "Inheritance is a powerful feature of object-oriented programming. Using just what you have seen so far about classes, you can model an incredible variety of real-world and virtual phenomena with a high degree of accuracy. The code you write has the potential to be stable and reusable in a variety of applications."
   ]
  },
  {
   "cell_type": "markdown",
   "metadata": {},
   "source": [
    "Inheritance in Python 2.7\n",
    "---\n",
    "The *super()* method has a slightly different syntax in Python 2.7. <br>\n",
    "You will be using Python 3, but it may be useful to recognize a different syntax, in case you bump into older code snippets."
   ]
  },
  {
   "cell_type": "code",
   "execution_count": null,
   "metadata": {},
   "outputs": [],
   "source": [
    "###highlight=[5]\n",
    "# this is exemplary and will generate an error if you run it\n",
    "class NewClass(ParentClass):\n",
    "    \n",
    "    def __init__(self, arguments_new_class, arguments_parent_class):\n",
    "        super(NewClass, self).__init__(arguments_parent_class)\n",
    "        # Code for initializing an object of the new class."
   ]
  },
  {
   "cell_type": "markdown",
   "metadata": {},
   "source": [
    "Notice that you have to explicitly pass the arguments *NewClass* and *self* when you call *super()* in Python 2.7. The SpaceShuttle class would look like this:"
   ]
  },
  {
   "cell_type": "code",
   "execution_count": null,
   "metadata": {},
   "outputs": [],
   "source": [
    "###highlight=[25,26,27,28,29,30,31,32,33,34]\n",
    "from math import sqrt\n",
    "\n",
    "class Rocket(object):\n",
    "    # Rocket simulates a rocket ship for a game,\n",
    "    #  or a physics simulation.\n",
    "    \n",
    "    def __init__(self, x=0, y=0):\n",
    "        # Each rocket has an (x,y) position.\n",
    "        self.x = x\n",
    "        self.y = y\n",
    "        \n",
    "    def move_rocket(self, x_increment=0, y_increment=1):\n",
    "        # Move the rocket according to the paremeters given.\n",
    "        #  Default behavior is to move the rocket up one unit.\n",
    "        self.x += x_increment\n",
    "        self.y += y_increment\n",
    "        \n",
    "    def get_distance(self, other_rocket):\n",
    "        # Calculates the distance from this rocket to another rocket,\n",
    "        #  and returns that value.\n",
    "        distance = sqrt((self.x-other_rocket.x)**2+(self.y-other_rocket.y)**2)\n",
    "        return distance\n",
    "    \n",
    "class Shuttle(Rocket):\n",
    "    # Shuttle simulates a space shuttle, which is really\n",
    "    #  just a reusable rocket.\n",
    "    \n",
    "    def __init__(self, x=0, y=0, flights_completed=0):\n",
    "        super(Shuttle, self).__init__(x, y)\n",
    "        self.flights_completed = flights_completed\n",
    "        \n",
    "shuttle = Shuttle(10,0,3)\n",
    "print(shuttle)"
   ]
  },
  {
   "cell_type": "markdown",
   "metadata": {},
   "source": [
    "As you can see, **this syntax works in Python 3** as well."
   ]
  },
  {
   "cell_type": "markdown",
   "metadata": {},
   "source": [
    "Modules and classes\n",
    "===\n",
    "Now that you are starting to work with classes, your files are going to grow longer. This is good, because it means your programs are probably doing more interesting things. But it is bad, because longer files can be more difficult to work with.<br>\n",
    "**Python allows you to save your classes in another file and then import them** into the program you are working on. This has the added advantage of isolating your classes into files that can be used in any number of different programs. As you use your classes repeatedly, the classes become more reliable and complete overall."
   ]
  },
  {
   "cell_type": "markdown",
   "metadata": {},
   "source": [
    "Storing a single class in a module\n",
    "---\n",
    "\n",
    "When you save a class into a separate file, that **file is called a *module***. You can have any number of classes in a single module. There are a number of ways you can then import the class you are interested in.\n",
    "\n",
    "Start out by saving just the Rocket class into a file called *rocket.py*. <br>\n",
    "**Notice the naming convention being used here:** the *module* is saved with a *lowercase name*, and the *class* starts with an *uppercase letter*. This convention is pretty important for a number of reasons, and it is a really good idea to follow the convention."
   ]
  },
  {
   "cell_type": "code",
   "execution_count": null,
   "metadata": {},
   "outputs": [],
   "source": [
    "###highlight=[2]\n",
    "# Save as rocket.py\n",
    "# this creates a new module rocket where the class Rocket is defined\n",
    "\n",
    "from math import sqrt\n",
    "\n",
    "class Rocket():\n",
    "    # Rocket simulates a rocket ship for a game,\n",
    "    #  or a physics simulation.\n",
    "    \n",
    "    def __init__(self, x=0, y=0):\n",
    "        # Each rocket has an (x,y) position.\n",
    "        self.x = x\n",
    "        self.y = y\n",
    "        \n",
    "    def move_rocket(self, x_increment=0, y_increment=1):\n",
    "        # Move the rocket according to the paremeters given.\n",
    "        #  Default behavior is to move the rocket up one unit.\n",
    "        self.x += x_increment\n",
    "        self.y += y_increment\n",
    "        \n",
    "    def get_distance(self, other_rocket):\n",
    "        # Calculates the distance from this rocket to another rocket,\n",
    "        #  and returns that value.\n",
    "        distance = sqrt((self.x-other_rocket.x)**2+(self.y-other_rocket.y)**2)\n",
    "        return distance"
   ]
  },
  {
   "cell_type": "markdown",
   "metadata": {},
   "source": [
    "# Exercise\n",
    "---\n",
    "#### How do you actully create this new module in JHUB?\n",
    "1. create a file of type text **within the same directory** of this present notebook\n",
    "2. name the new file as: rocket.py (this is a Python code not a notebook)\n",
    "3. cut and paste the class as defined in the previous code cell\n",
    "4. to test out that you have done things correctly, try importing the class Rocket from the module rocket. The following code cell is doing exactly that. If you get an error, then you need to find out the problem.\n"
   ]
  },
  {
   "cell_type": "markdown",
   "metadata": {},
   "source": [
    "Make a separate file (a new **module**) called *rocket_game.py*. Again, to use standard naming conventions, make sure you are using a lowercase_underscore name for this file."
   ]
  },
  {
   "cell_type": "code",
   "execution_count": 1,
   "metadata": {},
   "outputs": [
    {
     "name": "stdout",
     "output_type": "stream",
     "text": [
      "The rocket is at (0, 0).\n"
     ]
    }
   ],
   "source": [
    "# Here we are creating a new module: rocket_game\n",
    "# which is importing the class rocket and instantiating an object and printing its location\n",
    "# Save as rocket_game.py\n",
    "from rocket import Rocket\n",
    "\n",
    "rocket = Rocket()\n",
    "print(\"The rocket is at (%d, %d).\" % (rocket.x, rocket.y))"
   ]
  },
  {
   "cell_type": "markdown",
   "metadata": {},
   "source": [
    "This is a really clean and uncluttered file. A rocket is now something you can define in your programs, without the details of the rocket's implementation cluttering up your file. You don't have to include all the class code for a rocket in each of your files that deals with rockets; the code defining rocket attributes and behavior lives in one file, and can be used anywhere.\n",
    "\n",
    "The first line tells Python to look for a file called *rocket.py*. It looks for that file in the same directory as your current program. You can put your classes in other directories, but we will get to that convention a bit later.\n",
    "\n",
    "When Python finds the file *rocket.py*, it looks for a class called *Rocket*. When it finds that class, it imports that code into the current file, without you ever seeing that code. You are then free to use the class Rocket as you have seen it used in previous examples."
   ]
  },
  {
   "cell_type": "markdown",
   "metadata": {},
   "source": [
    "# Let's test out our new modules\n",
    "1. Clear the whole memory (KERNEL -- Restart & clear output)\n",
    "2. Run the following cell. \n",
    "3. if you get an error, there is something wrong with the python files and class definitions."
   ]
  },
  {
   "cell_type": "code",
   "execution_count": null,
   "metadata": {},
   "outputs": [],
   "source": [
    "# This is running a python script directly into the Notebook\n",
    "%run rocket_game.py"
   ]
  },
  {
   "cell_type": "markdown",
   "metadata": {},
   "source": [
    "Storing multiple classes in a module\n",
    "---\n",
    "\n",
    "A module is simply a file that contains one or more classes or functions, so the Shuttle class actually belongs in the rocket module as well:"
   ]
  },
  {
   "cell_type": "code",
   "execution_count": null,
   "metadata": {},
   "outputs": [],
   "source": [
    "###highlight=[27,28,29,30,31,32,33]\n",
    "# Save as rocket.py\n",
    "from math import sqrt\n",
    "\n",
    "class Rocket():\n",
    "    # Rocket simulates a rocket ship for a game,\n",
    "    #  or a physics simulation.\n",
    "    \n",
    "    def __init__(self, x=0, y=0):\n",
    "        # Each rocket has an (x,y) position.\n",
    "        self.x = x\n",
    "        self.y = y\n",
    "        \n",
    "    def move_rocket(self, x_increment=0, y_increment=1):\n",
    "        # Move the rocket according to the paremeters given.\n",
    "        #  Default behavior is to move the rocket up one unit.\n",
    "        self.x += x_increment\n",
    "        self.y += y_increment\n",
    "        \n",
    "    def get_distance(self, other_rocket):\n",
    "        # Calculates the distance from this rocket to another rocket,\n",
    "        #  and returns that value.\n",
    "        distance = sqrt((self.x-other_rocket.x)**2+(self.y-other_rocket.y)**2)\n",
    "        return distance\n",
    "    \n",
    "\n",
    "class Shuttle(Rocket):\n",
    "    # Shuttle simulates a space shuttle, which is really\n",
    "    #  just a reusable rocket.\n",
    "    \n",
    "    def __init__(self, x=0, y=0, flights_completed=0):\n",
    "        super().__init__(x, y)\n",
    "        self.flights_completed = flights_completed"
   ]
  },
  {
   "cell_type": "markdown",
   "metadata": {},
   "source": [
    "Now you can import the Rocket and the Shuttle class, and use them both in a clean uncluttered program file:"
   ]
  },
  {
   "cell_type": "code",
   "execution_count": null,
   "metadata": {},
   "outputs": [],
   "source": [
    "###highlight=[3,8,9,10]\n",
    "# Save as rocket_game.py \n",
    "from rocket import Rocket, Shuttle\n",
    "\n",
    "rocket = Rocket()\n",
    "print(\"The rocket is at (%d, %d).\" % (rocket.x, rocket.y))\n",
    "\n",
    "shuttle = Shuttle()\n",
    "print(\"\\nThe shuttle is at (%d, %d).\" % (shuttle.x, shuttle.y))\n",
    "print(\"The shuttle has completed %d flights.\" % shuttle.flights_completed)"
   ]
  },
  {
   "cell_type": "markdown",
   "metadata": {},
   "source": [
    "The first line tells Python to import both the *Rocket* and the *Shuttle* classes from the *rocket* module. <br>\n",
    "**You don't have to import every class in a module**; you can pick and choose the classes you care to use, and Python will only spend time processing those particular classes."
   ]
  },
  {
   "cell_type": "code",
   "execution_count": 2,
   "metadata": {
    "scrolled": true
   },
   "outputs": [
    {
     "name": "stdout",
     "output_type": "stream",
     "text": [
      "The rocket is at (0, 0).\n",
      "\n",
      "The shuttle is at (0, 0).\n",
      "The shuttle has completed 0 flights.\n"
     ]
    }
   ],
   "source": [
    "# This is running a python script directly into the Notebook\n",
    "%run rocket_game.py"
   ]
  },
  {
   "cell_type": "markdown",
   "metadata": {},
   "source": [
    "A number of ways to import modules and classes\n",
    "---\n",
    "There are several ways to import modules and classes, and each has its own merits."
   ]
  },
  {
   "cell_type": "markdown",
   "metadata": {},
   "source": [
    "### import *module_name*\n",
    "\n",
    "The syntax for importing classes that was just shown:"
   ]
  },
  {
   "cell_type": "markdown",
   "metadata": {},
   "source": [
    "from module_name import ClassName\n",
    "\n",
    "for example:"
   ]
  },
  {
   "cell_type": "code",
   "execution_count": null,
   "metadata": {},
   "outputs": [],
   "source": [
    "# importing just one of the two classes\n",
    "from rocket import Rocket"
   ]
  },
  {
   "cell_type": "code",
   "execution_count": null,
   "metadata": {},
   "outputs": [],
   "source": [
    "# importing both classes in one go\n",
    "from rocket import Rocket, Shuttle"
   ]
  },
  {
   "cell_type": "code",
   "execution_count": 3,
   "metadata": {},
   "outputs": [],
   "source": [
    "# importing all classes in one go\n",
    "from rocket import *"
   ]
  },
  {
   "cell_type": "markdown",
   "metadata": {},
   "source": [
    "This is straightforward, and is used quite commonly. It allows you to use the class names directly in your program, so you have very clean and readable code. \n",
    "\n",
    "This can be a **problem if the names of the classes you are importing conflict with names that have already been used in the program you are working on**. \n",
    "\n",
    "This is unlikely to happen in the short programs you have been seeing here, but if you were working on a larger program it is quite possible that the class you want to import from someone else's work would happen to have a name you have already used in your program. In this case, you can simply import the module itself:"
   ]
  },
  {
   "cell_type": "code",
   "execution_count": null,
   "metadata": {},
   "outputs": [],
   "source": [
    "# Save as rocket_game.py\n",
    "import rocket\n",
    "\n",
    "rocket_0 = rocket.Rocket()\n",
    "print(\"The rocket is at (%d, %d).\" % (rocket_0.x, rocket_0.y))\n",
    "\n",
    "shuttle_0 = rocket.Shuttle()\n",
    "print(\"\\nThe shuttle is at (%d, %d).\" % (shuttle_0.x, shuttle_0.y))\n",
    "print(\"The shuttle has completed %d flights.\" % shuttle_0.flights_completed)"
   ]
  },
  {
   "cell_type": "markdown",
   "metadata": {},
   "source": [
    "The general syntax for this kind of import is:\n",
    "\n",
    "    "
   ]
  },
  {
   "cell_type": "markdown",
   "metadata": {},
   "source": [
    "import module_name"
   ]
  },
  {
   "cell_type": "markdown",
   "metadata": {},
   "source": [
    "After this, classes are accessed using dot notation:"
   ]
  },
  {
   "cell_type": "markdown",
   "metadata": {},
   "source": [
    "module_name.ClassName"
   ]
  },
  {
   "cell_type": "markdown",
   "metadata": {},
   "source": [
    "This prevents some name conflicts. \n",
    "\n",
    "If you were reading carefully however, you might have noticed that **the variable name *rocket* in the previous example had to be changed** because it has the same name as the module itself. This is not good, because in a longer program that could mean a lot of renaming."
   ]
  },
  {
   "cell_type": "markdown",
   "metadata": {},
   "source": [
    "### import *module_name* as *local_module_name*\n",
    "\n",
    "There is another syntax for imports that is quite useful:"
   ]
  },
  {
   "cell_type": "markdown",
   "metadata": {},
   "source": [
    "import module_name as local_module_name"
   ]
  },
  {
   "cell_type": "markdown",
   "metadata": {},
   "source": [
    "When you are importing a module into one of your projects, you are free to choose any name you want for the module in your project. So the last example could be rewritten in a way that the variable name *rocket* would not need to be changed:"
   ]
  },
  {
   "cell_type": "code",
   "execution_count": null,
   "metadata": {},
   "outputs": [],
   "source": [
    "# Save as rocket_game.py\n",
    "import rocket as rocket_module\n",
    "\n",
    "rocket = rocket_module.Rocket()\n",
    "print(\"The rocket is at (%d, %d).\" % (rocket.x, rocket.y))\n",
    "\n",
    "shuttle = rocket_module.Shuttle()\n",
    "print(\"\\nThe shuttle is at (%d, %d).\" % (shuttle.x, shuttle.y))\n",
    "print(\"The shuttle has completed %d flights.\" % shuttle.flights_completed)"
   ]
  },
  {
   "cell_type": "markdown",
   "metadata": {},
   "source": [
    "This approach is often used to shorten the name of the module, so you don't have to type a long module name before each class name that you want to use. But it is easy to shorten a name so much that you force people reading your code to scroll to the top of your file and see what the shortened name stands for. In this example,"
   ]
  },
  {
   "cell_type": "code",
   "execution_count": null,
   "metadata": {},
   "outputs": [],
   "source": [
    "import rocket as rocket_module"
   ]
  },
  {
   "cell_type": "markdown",
   "metadata": {},
   "source": [
    "leads to much more readable code than something like:"
   ]
  },
  {
   "cell_type": "code",
   "execution_count": null,
   "metadata": {},
   "outputs": [],
   "source": [
    "import rocket as r"
   ]
  },
  {
   "cell_type": "markdown",
   "metadata": {},
   "source": [
    "### from *module_name* import *\n",
    "There is one more import syntax that you should be aware of, but you should probably avoid using. This syntax imports all of the available classes and functions in a module:"
   ]
  },
  {
   "cell_type": "code",
   "execution_count": null,
   "metadata": {},
   "outputs": [],
   "source": [
    "from module_name import *"
   ]
  },
  {
   "cell_type": "markdown",
   "metadata": {},
   "source": [
    "**This is not recommended**, for a couple reasons. First of all, you may have no idea what all the names of the classes and functions in a module are. If you accidentally give one of your variables the same name as a name from the module, you will have **naming conflicts**. Also, you may be **importing way more code into your program than you need**.\n",
    "\n",
    "If you really need all the functions and classes from a module, just import the module and use the `module_name.ClassName` syntax in your program."
   ]
  },
  {
   "cell_type": "markdown",
   "metadata": {},
   "source": [
    "You will get a sense of how to write your imports as you read more Python code, and as you write and share some of your own code."
   ]
  },
  {
   "cell_type": "markdown",
   "metadata": {},
   "source": [
    "A module of functions\n",
    "---\n",
    "You can use modules to store a set of functions you want available in different programs as well, even if those functions are not attached to any one class. To do this, you save the functions into a file, and then import that file just as you saw in the last section. Here is a really simple example; save this is *multiplying.py*:"
   ]
  },
  {
   "cell_type": "code",
   "execution_count": null,
   "metadata": {},
   "outputs": [],
   "source": [
    "# Save as multiplying.py\n",
    "def double(x):\n",
    "    return 2*x\n",
    "\n",
    "def triple(x):\n",
    "    return 3*x\n",
    "\n",
    "def quadruple(x):\n",
    "    return 4*x"
   ]
  },
  {
   "cell_type": "markdown",
   "metadata": {},
   "source": [
    "Now you can import the file *multiplying.py*, and use these functions. Using the `from module_name import function_name` syntax:"
   ]
  },
  {
   "cell_type": "code",
   "execution_count": null,
   "metadata": {},
   "outputs": [],
   "source": [
    "###highlight=[2]\n",
    "from multiplying import double, triple, quadruple\n",
    "\n",
    "print(double(5))\n",
    "print(triple(5))\n",
    "print(quadruple(5))"
   ]
  },
  {
   "cell_type": "markdown",
   "metadata": {},
   "source": [
    "Using the `import module_name` syntax:"
   ]
  },
  {
   "cell_type": "code",
   "execution_count": null,
   "metadata": {},
   "outputs": [],
   "source": [
    "###highlight=[2]\n",
    "import multiplying\n",
    "\n",
    "print(multiplying.double(5))\n",
    "print(multiplying.triple(5))\n",
    "print(multiplying.quadruple(5))"
   ]
  },
  {
   "cell_type": "markdown",
   "metadata": {},
   "source": [
    "Using the `import module_name as local_module_name` syntax:"
   ]
  },
  {
   "cell_type": "code",
   "execution_count": null,
   "metadata": {},
   "outputs": [],
   "source": [
    "###highlight=[2]\n",
    "import multiplying as m\n",
    "\n",
    "print(m.double(5))\n",
    "print(m.triple(5))\n",
    "print(m.quadruple(5))"
   ]
  },
  {
   "cell_type": "markdown",
   "metadata": {},
   "source": [
    "Using the `from module_name import *` syntax:"
   ]
  },
  {
   "cell_type": "code",
   "execution_count": null,
   "metadata": {},
   "outputs": [],
   "source": [
    "###highlight=[2]\n",
    "from multiplying import *\n",
    "\n",
    "print(double(5))\n",
    "print(triple(5))\n",
    "print(quadruple(5))"
   ]
  },
  {
   "cell_type": "markdown",
   "metadata": {},
   "source": [
    "Revisiting PEP 8\n",
    "===\n",
    "If you recall, [PEP 8](http://www.python.org/dev/peps/pep-0008) is the style guide for writing Python code. PEP 8 has a little to say about writing classes and using `import` statements, that was not covered previously. Following these guidelines will help make your code readable to other Python programmers, and it will help you make more sense of the Python code you read."
   ]
  },
  {
   "cell_type": "markdown",
   "metadata": {},
   "source": [
    "Import statements\n",
    "---\n",
    "PEP8 provides clear guidelines about [where](http://www.python.org/dev/peps/pep-0008/#imports) import statements should appear in a file. The names of modules should be on separate lines:"
   ]
  },
  {
   "cell_type": "code",
   "execution_count": null,
   "metadata": {},
   "outputs": [],
   "source": [
    "# this\n",
    "import sys\n",
    "import os\n",
    "\n",
    "# not this\n",
    "import sys, os"
   ]
  },
  {
   "cell_type": "markdown",
   "metadata": {},
   "source": [
    "The names of classes can be on the same line:"
   ]
  },
  {
   "cell_type": "code",
   "execution_count": null,
   "metadata": {},
   "outputs": [],
   "source": [
    "from rocket import Rocket, Shuttle"
   ]
  },
  {
   "cell_type": "markdown",
   "metadata": {},
   "source": [
    "Imports should always be **placed at the top of the file**. When you are working on a longer program, you might have an idea that requires an import statement. You might write the import statement in the code block you are working on to see if your idea works. If you end up keeping the import, make sure you move the import statement to the top of the file. This lets anyone who works with your program see what modules are required for the program to work.\n",
    "\n",
    "Your import statements should be in a predictable order:\n",
    "\n",
    "- The first imports should be standard Python modules such as *sys*, *os*, and *math*.\n",
    "- The second set of imports should be \"third-party\" libraries. These are libraries that are written and maintained by independent programmers, which are not part of the official Python language. An example of this is [pygame](http://pygame.org/news.html)."
   ]
  },
  {
   "cell_type": "markdown",
   "metadata": {},
   "source": [
    "Module and class names\n",
    "---\n",
    "Modules should have [short, lowercase names](http://www.python.org/dev/peps/pep-0008/#package-and-module-names). If you want to have a space in the module name, use an underscore.\n",
    "\n",
    "[Class names](http://www.python.org/dev/peps/pep-0008/#class-names) should be written in *CamelCase*, with an initial capital letter and any new word capitalized. There should be no underscores in your class names.\n",
    "\n",
    "This convention **helps distinguish modules from classes**, for example when you are writing import statements."
   ]
  }
 ],
 "metadata": {
  "kernelspec": {
   "display_name": "Python 3",
   "language": "python",
   "name": "python3"
  },
  "language_info": {
   "codemirror_mode": {
    "name": "ipython",
    "version": 3
   },
   "file_extension": ".py",
   "mimetype": "text/x-python",
   "name": "python",
   "nbconvert_exporter": "python",
   "pygments_lexer": "ipython3",
   "version": "3.8.3"
  }
 },
 "nbformat": 4,
 "nbformat_minor": 1
}
