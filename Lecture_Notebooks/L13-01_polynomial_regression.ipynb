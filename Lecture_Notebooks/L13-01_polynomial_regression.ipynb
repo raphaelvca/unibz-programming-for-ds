{
 "cells": [
  {
   "cell_type": "markdown",
   "metadata": {
    "_kg_hide-input": false,
    "_uuid": "0c52553f5cb7a74adca1f2281a25086ef34cae33"
   },
   "source": [
    "# Polynomial regression \n",
    "### Linear and polynomial regression with the SALARY dataset\n",
    "You'll be using different types of regression to predict the salary of employes, based on historical salaries."
   ]
  },
  {
   "cell_type": "markdown",
   "metadata": {
    "_uuid": "0a3519bc2b7fe0aa582b226adbb05209a28098b2"
   },
   "source": [
    "**1. Importing modules needed for the work**"
   ]
  },
  {
   "cell_type": "code",
   "execution_count": 1,
   "metadata": {
    "_cell_guid": "79c7e3d0-c299-4dcb-8224-4455121ee9b0",
    "_kg_hide-input": true,
    "_uuid": "d629ff2d2480ee46fbb7e2d37f6b5fab8052498a"
   },
   "outputs": [],
   "source": [
    "import matplotlib.pyplot as plt \n",
    "import numpy as np \n",
    "import pandas as pd # data processing, CSV file I/O (e.g. pd.read_csv)\n",
    "import seaborn as sns \n",
    "plt.style.use('fivethirtyeight')  \n",
    "import warnings\n",
    "warnings.filterwarnings('ignore')  #this will ignore the warnings.it wont display warnings in notebook"
   ]
  },
  {
   "cell_type": "markdown",
   "metadata": {
    "_kg_hide-input": true,
    "_uuid": "32e59994b46a6f6389a1e02df0f676e45aaca859"
   },
   "source": [
    "**2. Importing the salary data**"
   ]
  },
  {
   "cell_type": "code",
   "execution_count": 2,
   "metadata": {
    "_kg_hide-input": true,
    "_uuid": "49b751ec4833c29e0e2c9775fd9a1e84ed22bc7f"
   },
   "outputs": [
    {
     "data": {
      "text/html": [
       "<div>\n",
       "<style scoped>\n",
       "    .dataframe tbody tr th:only-of-type {\n",
       "        vertical-align: middle;\n",
       "    }\n",
       "\n",
       "    .dataframe tbody tr th {\n",
       "        vertical-align: top;\n",
       "    }\n",
       "\n",
       "    .dataframe thead th {\n",
       "        text-align: right;\n",
       "    }\n",
       "</style>\n",
       "<table border=\"1\" class=\"dataframe\">\n",
       "  <thead>\n",
       "    <tr style=\"text-align: right;\">\n",
       "      <th></th>\n",
       "      <th>Position</th>\n",
       "      <th>Level</th>\n",
       "      <th>Salary</th>\n",
       "    </tr>\n",
       "  </thead>\n",
       "  <tbody>\n",
       "    <tr>\n",
       "      <th>0</th>\n",
       "      <td>Business Analyst</td>\n",
       "      <td>1</td>\n",
       "      <td>45000</td>\n",
       "    </tr>\n",
       "    <tr>\n",
       "      <th>1</th>\n",
       "      <td>Junior Consultant</td>\n",
       "      <td>2</td>\n",
       "      <td>50000</td>\n",
       "    </tr>\n",
       "    <tr>\n",
       "      <th>2</th>\n",
       "      <td>Senior Consultant</td>\n",
       "      <td>3</td>\n",
       "      <td>60000</td>\n",
       "    </tr>\n",
       "    <tr>\n",
       "      <th>3</th>\n",
       "      <td>Manager</td>\n",
       "      <td>4</td>\n",
       "      <td>80000</td>\n",
       "    </tr>\n",
       "    <tr>\n",
       "      <th>4</th>\n",
       "      <td>Country Manager</td>\n",
       "      <td>5</td>\n",
       "      <td>110000</td>\n",
       "    </tr>\n",
       "    <tr>\n",
       "      <th>5</th>\n",
       "      <td>Region Manager</td>\n",
       "      <td>6</td>\n",
       "      <td>150000</td>\n",
       "    </tr>\n",
       "    <tr>\n",
       "      <th>6</th>\n",
       "      <td>Partner</td>\n",
       "      <td>7</td>\n",
       "      <td>200000</td>\n",
       "    </tr>\n",
       "    <tr>\n",
       "      <th>7</th>\n",
       "      <td>Senior Partner</td>\n",
       "      <td>8</td>\n",
       "      <td>300000</td>\n",
       "    </tr>\n",
       "    <tr>\n",
       "      <th>8</th>\n",
       "      <td>C-level</td>\n",
       "      <td>9</td>\n",
       "      <td>500000</td>\n",
       "    </tr>\n",
       "    <tr>\n",
       "      <th>9</th>\n",
       "      <td>CEO</td>\n",
       "      <td>10</td>\n",
       "      <td>1000000</td>\n",
       "    </tr>\n",
       "  </tbody>\n",
       "</table>\n",
       "</div>"
      ],
      "text/plain": [
       "            Position  Level   Salary\n",
       "0   Business Analyst      1    45000\n",
       "1  Junior Consultant      2    50000\n",
       "2  Senior Consultant      3    60000\n",
       "3            Manager      4    80000\n",
       "4    Country Manager      5   110000\n",
       "5     Region Manager      6   150000\n",
       "6            Partner      7   200000\n",
       "7     Senior Partner      8   300000\n",
       "8            C-level      9   500000\n",
       "9                CEO     10  1000000"
      ]
     },
     "execution_count": 2,
     "metadata": {},
     "output_type": "execute_result"
    }
   ],
   "source": [
    "dataset=pd.read_csv('./input/Position_Salaries.csv')\n",
    "dataset"
   ]
  },
  {
   "cell_type": "markdown",
   "metadata": {
    "_uuid": "cede036d5c17cab94473c3e176030708e553fa7c"
   },
   "source": [
    "We can see that the dataset has 10 levels and the corresponding salary paid to the employee"
   ]
  },
  {
   "cell_type": "markdown",
   "metadata": {},
   "source": [
    "> #### We only have one usable feature in this dataset\n",
    "> The features 'Position' and 'Level' are redundant.\n",
    "> The **regressor** is the column 'Level'"
   ]
  },
  {
   "cell_type": "code",
   "execution_count": 3,
   "metadata": {
    "_kg_hide-input": true,
    "_uuid": "e953780a87ba00cc3b4ffd8c33f6d3c10afcf17d"
   },
   "outputs": [
    {
     "data": {
      "text/plain": [
       "array([[ 1],\n",
       "       [ 2],\n",
       "       [ 3],\n",
       "       [ 4],\n",
       "       [ 5],\n",
       "       [ 6],\n",
       "       [ 7],\n",
       "       [ 8],\n",
       "       [ 9],\n",
       "       [10]], dtype=int64)"
      ]
     },
     "execution_count": 3,
     "metadata": {},
     "output_type": "execute_result"
    }
   ],
   "source": [
    "# extracting the regressor/column/feature 'Level'\n",
    "X=dataset.iloc[:,1:2].values  \n",
    "X"
   ]
  },
  {
   "cell_type": "markdown",
   "metadata": {},
   "source": [
    "> #### We now need to extract the regressand, that is the variable that we eventually want to be able to predict\n",
    "> the **regressand** is the column 'Salary'"
   ]
  },
  {
   "cell_type": "code",
   "execution_count": 4,
   "metadata": {},
   "outputs": [
    {
     "data": {
      "text/plain": [
       "array([  45000,   50000,   60000,   80000,  110000,  150000,  200000,\n",
       "        300000,  500000, 1000000], dtype=int64)"
      ]
     },
     "execution_count": 4,
     "metadata": {},
     "output_type": "execute_result"
    }
   ],
   "source": [
    "# Extracting the column 'Salary'\n",
    "y=dataset.iloc[:,2].values    \n",
    "y"
   ]
  },
  {
   "cell_type": "markdown",
   "metadata": {
    "_uuid": "2b9b82d15b089d36d28a3290d7ef55648f034025"
   },
   "source": [
    "**3. Splitting the data into training and test data**\n",
    "> Typically at this point we should be splitting the dataset into train and test set. So that we can test out our model after training. However in this simple example we only have few data points. So we´ll be using all of them for training. \n",
    "\n",
    "> **This is a very bad thing to do!!**\n"
   ]
  },
  {
   "cell_type": "code",
   "execution_count": 5,
   "metadata": {
    "_kg_hide-input": true,
    "_uuid": "e4291138e946645616fef10c4969727c4c174cd3"
   },
   "outputs": [],
   "source": [
    "# uncomment the following to create the training and testing datasets\n",
    "#from sklearn.model_selection import train_test_split\n",
    "#X_train,X_test,y_train,y_test=train_test_split(X,y,test_size=0.2,random_state=0)"
   ]
  },
  {
   "cell_type": "markdown",
   "metadata": {
    "_uuid": "6ba90b731925db7b5a626704034e68ee01fcf04f"
   },
   "source": [
    "**4. Linear Regression**"
   ]
  },
  {
   "cell_type": "code",
   "execution_count": 6,
   "metadata": {
    "_kg_hide-input": false,
    "_uuid": "beebebdf23e60324b73167ed3a552ed07a295b66"
   },
   "outputs": [
    {
     "data": {
      "text/plain": [
       "LinearRegression()"
      ]
     },
     "execution_count": 6,
     "metadata": {},
     "output_type": "execute_result"
    }
   ],
   "source": [
    "from sklearn.linear_model import LinearRegression\n",
    "lin_reg=LinearRegression()\n",
    "lin_reg.fit(X,y)"
   ]
  },
  {
   "cell_type": "markdown",
   "metadata": {
    "_uuid": "3c4372269d27081227c51712db22a056d24c4532"
   },
   "source": [
    "**5. Visualizing Linear Regression result**"
   ]
  },
  {
   "cell_type": "code",
   "execution_count": 7,
   "metadata": {
    "_kg_hide-input": true,
    "_uuid": "521aaed1e040e904e52fee4d0fcf7d738059f53e"
   },
   "outputs": [
    {
     "data": {
      "image/png": "[encoded data removed]",
      "text/plain": [
       "<Figure size 432x288 with 1 Axes>"
      ]
     },
     "metadata": {},
     "output_type": "display_data"
    }
   ],
   "source": [
    "plt.scatter(X,y,color='red')\n",
    "plt.plot(X,lin_reg.predict(X),color='blue')\n",
    "plt.title('Linear Regression')\n",
    "plt.xlabel('Position Level')\n",
    "plt.ylabel('Salary')\n",
    "plt.show()"
   ]
  },
  {
   "cell_type": "markdown",
   "metadata": {
    "_uuid": "b0e3eefeea5c2754d11f03adcdd6de1603bf0e8d"
   },
   "source": [
    "**6. Polynomial Regression**<br>\n",
    "Since our data is distributed in a non linear way, we'll try fitting it with polynomial curves, to get more accurate models.<br>\n",
    "We achieve this through a stratagem. First, we **transform the features from a linear space onto a polynomial space**. Then we **apply linear regression to the transformed dataset**. <br>\n",
    "Let us see how we can fit a polynomial of degree 2. In this case, we transfrom the $X$ (feature) space onto a $X^{2}$ space, using the following **Polynomial Feature Transform**: <br>\n",
    "*PolynomialFeatures(degree=2)*\n",
    "\n",
    ">***Definition***: Polynomial features are those features created by raising existing features to an exponent.\n",
    "For example, if a dataset had one input feature X, then a polynomial feature would be the addition of a new feature (column) where values were calculated by squaring the values in $X$, e.g. $X^{2}$. "
   ]
  },
  {
   "cell_type": "code",
   "execution_count": 8,
   "metadata": {
    "_uuid": "0aecda366253387f74619f915631ecbd1ee388e7"
   },
   "outputs": [
    {
     "name": "stdout",
     "output_type": "stream",
     "text": [
      "[[  1.   1.   1.]\n",
      " [  1.   2.   4.]\n",
      " [  1.   3.   9.]\n",
      " [  1.   4.  16.]\n",
      " [  1.   5.  25.]\n",
      " [  1.   6.  36.]\n",
      " [  1.   7.  49.]\n",
      " [  1.   8.  64.]\n",
      " [  1.   9.  81.]\n",
      " [  1.  10. 100.]]\n"
     ]
    }
   ],
   "source": [
    "# imports\n",
    "from sklearn.preprocessing import PolynomialFeatures\n",
    "\n",
    "# creating a polynomial feature of degree 2\n",
    "poly_reg2=PolynomialFeatures(degree=2)\n",
    "\n",
    "# transforming feature X into X^2\n",
    "X_poly=poly_reg2.fit_transform(X)\n",
    "print(X_poly)"
   ]
  },
  {
   "cell_type": "code",
   "execution_count": 9,
   "metadata": {
    "_uuid": "0aecda366253387f74619f915631ecbd1ee388e7"
   },
   "outputs": [
    {
     "data": {
      "text/plain": [
       "LinearRegression()"
      ]
     },
     "execution_count": 9,
     "metadata": {},
     "output_type": "execute_result"
    }
   ],
   "source": [
    "# creating a linear regression handler\n",
    "lin_reg_2=LinearRegression()\n",
    "\n",
    "# applying linear regression to the transformed X^2 space\n",
    "# this is equivalent to fitting a polynomial of degree 2 to the orginal X space\n",
    "lin_reg_2.fit(X_poly,y)"
   ]
  },
  {
   "cell_type": "code",
   "execution_count": 10,
   "metadata": {
    "_kg_hide-input": true,
    "_uuid": "34b0fca99bb31397fe574e3f777cdb59e41e2b36"
   },
   "outputs": [
    {
     "data": {
      "image/png": "[encoded data removed]",
      "text/plain": [
       "<Figure size 432x288 with 1 Axes>"
      ]
     },
     "metadata": {},
     "output_type": "display_data"
    }
   ],
   "source": [
    "# plotting the original data points\n",
    "plt.scatter(X,y,color='red')\n",
    "\n",
    "# plotting the polynomial of degree 2\n",
    "plt.plot(X,lin_reg_2.predict(poly_reg2.fit_transform(X)),color='blue')\n",
    "\n",
    "# uncomment the next line to plot the polynomial of degree 3\n",
    "#plt.plot(X,lin_reg_3.predict(poly_reg3.fit_transform(X)),color='green')\n",
    "\n",
    "plt.title('Polynomial Regression with degree=2')\n",
    "plt.xlabel('Position Level')\n",
    "plt.ylabel('Salary')\n",
    "plt.show()"
   ]
  },
  {
   "cell_type": "markdown",
   "metadata": {},
   "source": [
    "**7. Third-degree Polynomial Regression**<br>\n",
    "Since our data is still not fitting very well, we'll try fitting it with a higher-degree polynomial (degree=3), to get more accurate models."
   ]
  },
  {
   "cell_type": "code",
   "execution_count": 11,
   "metadata": {
    "_uuid": "cd4f3e4674ffa3121e0687f2a8c4a6a73f2119df"
   },
   "outputs": [
    {
     "data": {
      "text/plain": [
       "LinearRegression()"
      ]
     },
     "execution_count": 11,
     "metadata": {},
     "output_type": "execute_result"
    }
   ],
   "source": [
    "# Polynomial curve of degree 3\n",
    "poly_reg3=PolynomialFeatures(degree=3)\n",
    "X_poly3=poly_reg3.fit_transform(X)\n",
    "lin_reg_3=LinearRegression()\n",
    "lin_reg_3.fit(X_poly3,y)"
   ]
  },
  {
   "cell_type": "markdown",
   "metadata": {
    "_uuid": "b433ea49abdf2cad45deb52c1204fe7e5d2f279a"
   },
   "source": [
    "**8. Visualizing third-degree polynomial**"
   ]
  },
  {
   "cell_type": "code",
   "execution_count": 12,
   "metadata": {
    "_kg_hide-input": true,
    "_uuid": "34b0fca99bb31397fe574e3f777cdb59e41e2b36"
   },
   "outputs": [
    {
     "data": {
      "image/png": "[encoded data removed]",
      "text/plain": [
       "<Figure size 432x288 with 1 Axes>"
      ]
     },
     "metadata": {},
     "output_type": "display_data"
    }
   ],
   "source": [
    "plt.scatter(X,y,color='red')\n",
    "plt.plot(X,lin_reg_2.predict(poly_reg2.fit_transform(X)),color='blue')\n",
    "plt.plot(X,lin_reg_3.predict(poly_reg3.fit_transform(X)),color='green')\n",
    "plt.title('Third-degree Polynomial Regression')\n",
    "plt.xlabel('Position Level')\n",
    "plt.ylabel('Salary')\n",
    "plt.show()"
   ]
  },
  {
   "cell_type": "markdown",
   "metadata": {
    "_uuid": "ed401376a83b2831d3403942961ec39c66a926fe"
   },
   "source": [
    "**8. Predicting the salary of an employee with each of the 3 curves**\n",
    "Let´s use the three models to make predictions, to get a feel as to the accuracy we have achieved.\n",
    "> We now want to predict the salary of an employee comprised into a new level 6.5 "
   ]
  },
  {
   "cell_type": "code",
   "execution_count": 13,
   "metadata": {
    "_uuid": "0e025d178fd3bf04fe4f58edb3f7a10bc640bddc"
   },
   "outputs": [
    {
     "data": {
      "text/plain": [
       "array([330378.78787879])"
      ]
     },
     "execution_count": 13,
     "metadata": {},
     "output_type": "execute_result"
    }
   ],
   "source": [
    "lin_reg.predict([[6.5]])  # We are assuming the level of the employee is 6.5"
   ]
  },
  {
   "cell_type": "code",
   "execution_count": 14,
   "metadata": {
    "_uuid": "d0a42f27e221b562deb8911c29438ea20fa414e3"
   },
   "outputs": [
    {
     "data": {
      "text/plain": [
       "array([189498.10606061])"
      ]
     },
     "execution_count": 14,
     "metadata": {},
     "output_type": "execute_result"
    }
   ],
   "source": [
    "lin_reg_2.predict(poly_reg2.fit_transform([[6.5]]))"
   ]
  },
  {
   "cell_type": "code",
   "execution_count": 15,
   "metadata": {
    "_uuid": "d3b44264e69a08f4d712c77ae2611f5b653ce34c"
   },
   "outputs": [
    {
     "data": {
      "text/plain": [
       "array([133259.46969697])"
      ]
     },
     "execution_count": 15,
     "metadata": {},
     "output_type": "execute_result"
    }
   ],
   "source": [
    "lin_reg_3.predict(poly_reg3.fit_transform([[6.5]]))"
   ]
  },
  {
   "cell_type": "markdown",
   "metadata": {
    "_uuid": "51d98165862813930d0fa957454f6024fd064cc9"
   },
   "source": [
    "We can clearly see that the Polynomial Regression models fit much better, compared to the Linear Regression Model. As we increase the degree of the polynomial regression the correlation increases. **Linear regression overshoots** by a large amount, ending up with a 6.5-level employee that is predicted to earn much more than the actual salary of a 7-level employee. **Not a good model!!**\n",
    "\n",
    "> At the end of this notebook, you are required to compute the errors of each of the models more accurately, looking at the metrics introduced in one of the earlier notebooks.\n"
   ]
  },
  {
   "cell_type": "markdown",
   "metadata": {},
   "source": [
    "## Overfitting and underfitting\n",
    "\n",
    "**You should not be tempted into using high-degree polynomials though!!**\n",
    "\n",
    "We always need to aim for the minimal possible degree (linear regression when possible), which has two benefits:<br>\n",
    "* it is much faster to compute (particularly on big datasets)\n",
    "* it avoids over-fitting\n",
    "\n",
    "Look at the following example to appreciate the problem at hand in a qualitative way.\n",
    "\n",
    "![PA Work Flow](./figures/underfitting_and_overfitting.png)\n"
   ]
  }
 ],
 "metadata": {
  "kernelspec": {
   "display_name": "Python 3",
   "language": "python",
   "name": "python3"
  },
  "language_info": {
   "codemirror_mode": {
    "name": "ipython",
    "version": 3
   },
   "file_extension": ".py",
   "mimetype": "text/x-python",
   "name": "python",
   "nbconvert_exporter": "python",
   "pygments_lexer": "ipython3",
   "version": "3.8.3"
  }
 },
 "nbformat": 4,
 "nbformat_minor": 1
}
