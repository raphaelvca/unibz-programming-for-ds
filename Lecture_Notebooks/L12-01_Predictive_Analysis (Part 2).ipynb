{
 "cells": [
  {
   "cell_type": "markdown",
   "metadata": {
    "slideshow": {
     "slide_type": "slide"
    }
   },
   "source": [
    "# Predictive Analysis: part 2 \n",
    "## Complete workflow using  Linear Regression\n",
    "\n",
    "This notebook is the second part of our predictive analysis workflow. \n",
    "\n",
    ">What we have seen in part 1:\n",
    ">* define the **problem** at hand;\n",
    ">* appreciate the importance of data **exploration**, through a number of methods and tools (e.g. study **feature correlations**);\n",
    ">* appreciate **data preparation** and **curation** (adding/removing/aggregating features, creating numerical features, handling missing data);\n",
    "\n",
    "\n",
    "> What´s included in this notebook (part 2):\n",
    ">* perform **feature analysis**, to identify the most influential features;\n",
    ">* get on with the **machine learning** process: \n",
    "    * **partitioning** the data in **training** and **testing** sets;\n",
    "    * **train** the testing set, using **linear regression** to build a **regression model**;\n",
    "    * **test** the regression model, using the testing set;\n",
    "    * use some metrics for **evaluating the performance of the prediction model** at hand;\n"
   ]
  },
  {
   "cell_type": "markdown",
   "metadata": {
    "slideshow": {
     "slide_type": "slide"
    }
   },
   "source": [
    "# The Predictive Analysis Work Flow\n",
    "![PA Work Flow](./images/Predictive_Analysis_Flow1.png)\n",
    "\n"
   ]
  },
  {
   "cell_type": "markdown",
   "metadata": {
    "slideshow": {
     "slide_type": "subslide"
    }
   },
   "source": [
    "## Let´s reload our admissions.csv dataset\n"
   ]
  },
  {
   "cell_type": "code",
   "execution_count": 1,
   "metadata": {
    "hide_input": true,
    "slideshow": {
     "slide_type": "-"
    },
    "tags": [
     "hidden_cell"
    ]
   },
   "outputs": [
    {
     "data": {
      "text/html": [
       "<div>\n",
       "<style scoped>\n",
       "    .dataframe tbody tr th:only-of-type {\n",
       "        vertical-align: middle;\n",
       "    }\n",
       "\n",
       "    .dataframe tbody tr th {\n",
       "        vertical-align: top;\n",
       "    }\n",
       "\n",
       "    .dataframe thead th {\n",
       "        text-align: right;\n",
       "    }\n",
       "</style>\n",
       "<table border=\"1\" class=\"dataframe\">\n",
       "  <thead>\n",
       "    <tr style=\"text-align: right;\">\n",
       "      <th></th>\n",
       "      <th>Serial No.</th>\n",
       "      <th>GRE Score</th>\n",
       "      <th>TOEFL Score</th>\n",
       "      <th>University Rating</th>\n",
       "      <th>SOP</th>\n",
       "      <th>LOR</th>\n",
       "      <th>CGPA</th>\n",
       "      <th>Research</th>\n",
       "      <th>Chance of Admit</th>\n",
       "    </tr>\n",
       "  </thead>\n",
       "  <tbody>\n",
       "    <tr>\n",
       "      <th>0</th>\n",
       "      <td>1</td>\n",
       "      <td>337</td>\n",
       "      <td>118</td>\n",
       "      <td>4</td>\n",
       "      <td>4.5</td>\n",
       "      <td>4.5</td>\n",
       "      <td>9.65</td>\n",
       "      <td>1</td>\n",
       "      <td>0.92</td>\n",
       "    </tr>\n",
       "    <tr>\n",
       "      <th>1</th>\n",
       "      <td>2</td>\n",
       "      <td>324</td>\n",
       "      <td>107</td>\n",
       "      <td>4</td>\n",
       "      <td>4.0</td>\n",
       "      <td>4.5</td>\n",
       "      <td>8.87</td>\n",
       "      <td>1</td>\n",
       "      <td>0.76</td>\n",
       "    </tr>\n",
       "    <tr>\n",
       "      <th>2</th>\n",
       "      <td>3</td>\n",
       "      <td>316</td>\n",
       "      <td>104</td>\n",
       "      <td>3</td>\n",
       "      <td>3.0</td>\n",
       "      <td>3.5</td>\n",
       "      <td>8.00</td>\n",
       "      <td>1</td>\n",
       "      <td>0.72</td>\n",
       "    </tr>\n",
       "    <tr>\n",
       "      <th>3</th>\n",
       "      <td>4</td>\n",
       "      <td>322</td>\n",
       "      <td>110</td>\n",
       "      <td>3</td>\n",
       "      <td>3.5</td>\n",
       "      <td>2.5</td>\n",
       "      <td>8.67</td>\n",
       "      <td>1</td>\n",
       "      <td>0.80</td>\n",
       "    </tr>\n",
       "    <tr>\n",
       "      <th>4</th>\n",
       "      <td>5</td>\n",
       "      <td>314</td>\n",
       "      <td>103</td>\n",
       "      <td>2</td>\n",
       "      <td>2.0</td>\n",
       "      <td>3.0</td>\n",
       "      <td>8.21</td>\n",
       "      <td>0</td>\n",
       "      <td>0.65</td>\n",
       "    </tr>\n",
       "  </tbody>\n",
       "</table>\n",
       "</div>"
      ],
      "text/plain": [
       "   Serial No.  GRE Score  TOEFL Score  University Rating  SOP  LOR  CGPA  \\\n",
       "0           1        337          118                  4  4.5  4.5  9.65   \n",
       "1           2        324          107                  4  4.0  4.5  8.87   \n",
       "2           3        316          104                  3  3.0  3.5  8.00   \n",
       "3           4        322          110                  3  3.5  2.5  8.67   \n",
       "4           5        314          103                  2  2.0  3.0  8.21   \n",
       "\n",
       "   Research  Chance of Admit  \n",
       "0         1             0.92  \n",
       "1         1             0.76  \n",
       "2         1             0.72  \n",
       "3         1             0.80  \n",
       "4         0             0.65  "
      ]
     },
     "execution_count": 1,
     "metadata": {},
     "output_type": "execute_result"
    }
   ],
   "source": [
    "# Let's import our dataset\n",
    "import pandas as pd\n",
    "file_path = './data/admissions.csv'\n",
    "df = pd.read_csv(file_path, header=0)\n",
    "\n",
    "# Print out the first five entries of the dataset\n",
    "# observe the features (columns), typical values (range), data types, etc.\n",
    "df.head()"
   ]
  },
  {
   "cell_type": "code",
   "execution_count": 2,
   "metadata": {},
   "outputs": [
    {
     "data": {
      "text/html": [
       "<div>\n",
       "<style scoped>\n",
       "    .dataframe tbody tr th:only-of-type {\n",
       "        vertical-align: middle;\n",
       "    }\n",
       "\n",
       "    .dataframe tbody tr th {\n",
       "        vertical-align: top;\n",
       "    }\n",
       "\n",
       "    .dataframe thead th {\n",
       "        text-align: right;\n",
       "    }\n",
       "</style>\n",
       "<table border=\"1\" class=\"dataframe\">\n",
       "  <thead>\n",
       "    <tr style=\"text-align: right;\">\n",
       "      <th></th>\n",
       "      <th>Serial No.</th>\n",
       "      <th>GRE Score</th>\n",
       "      <th>TOEFL Score</th>\n",
       "      <th>University Rating</th>\n",
       "      <th>SOP</th>\n",
       "      <th>LOR</th>\n",
       "      <th>CGPA</th>\n",
       "      <th>Research</th>\n",
       "      <th>Chance of Admit</th>\n",
       "    </tr>\n",
       "  </thead>\n",
       "  <tbody>\n",
       "    <tr>\n",
       "      <th>count</th>\n",
       "      <td>500.000000</td>\n",
       "      <td>500.000000</td>\n",
       "      <td>500.000000</td>\n",
       "      <td>500.000000</td>\n",
       "      <td>500.000000</td>\n",
       "      <td>500.00000</td>\n",
       "      <td>500.000000</td>\n",
       "      <td>500.000000</td>\n",
       "      <td>500.00000</td>\n",
       "    </tr>\n",
       "    <tr>\n",
       "      <th>mean</th>\n",
       "      <td>250.500000</td>\n",
       "      <td>316.472000</td>\n",
       "      <td>107.192000</td>\n",
       "      <td>3.114000</td>\n",
       "      <td>3.374000</td>\n",
       "      <td>3.48400</td>\n",
       "      <td>8.576440</td>\n",
       "      <td>0.560000</td>\n",
       "      <td>0.72174</td>\n",
       "    </tr>\n",
       "    <tr>\n",
       "      <th>std</th>\n",
       "      <td>144.481833</td>\n",
       "      <td>11.295148</td>\n",
       "      <td>6.081868</td>\n",
       "      <td>1.143512</td>\n",
       "      <td>0.991004</td>\n",
       "      <td>0.92545</td>\n",
       "      <td>0.604813</td>\n",
       "      <td>0.496884</td>\n",
       "      <td>0.14114</td>\n",
       "    </tr>\n",
       "    <tr>\n",
       "      <th>min</th>\n",
       "      <td>1.000000</td>\n",
       "      <td>290.000000</td>\n",
       "      <td>92.000000</td>\n",
       "      <td>1.000000</td>\n",
       "      <td>1.000000</td>\n",
       "      <td>1.00000</td>\n",
       "      <td>6.800000</td>\n",
       "      <td>0.000000</td>\n",
       "      <td>0.34000</td>\n",
       "    </tr>\n",
       "    <tr>\n",
       "      <th>25%</th>\n",
       "      <td>125.750000</td>\n",
       "      <td>308.000000</td>\n",
       "      <td>103.000000</td>\n",
       "      <td>2.000000</td>\n",
       "      <td>2.500000</td>\n",
       "      <td>3.00000</td>\n",
       "      <td>8.127500</td>\n",
       "      <td>0.000000</td>\n",
       "      <td>0.63000</td>\n",
       "    </tr>\n",
       "    <tr>\n",
       "      <th>50%</th>\n",
       "      <td>250.500000</td>\n",
       "      <td>317.000000</td>\n",
       "      <td>107.000000</td>\n",
       "      <td>3.000000</td>\n",
       "      <td>3.500000</td>\n",
       "      <td>3.50000</td>\n",
       "      <td>8.560000</td>\n",
       "      <td>1.000000</td>\n",
       "      <td>0.72000</td>\n",
       "    </tr>\n",
       "    <tr>\n",
       "      <th>75%</th>\n",
       "      <td>375.250000</td>\n",
       "      <td>325.000000</td>\n",
       "      <td>112.000000</td>\n",
       "      <td>4.000000</td>\n",
       "      <td>4.000000</td>\n",
       "      <td>4.00000</td>\n",
       "      <td>9.040000</td>\n",
       "      <td>1.000000</td>\n",
       "      <td>0.82000</td>\n",
       "    </tr>\n",
       "    <tr>\n",
       "      <th>max</th>\n",
       "      <td>500.000000</td>\n",
       "      <td>340.000000</td>\n",
       "      <td>120.000000</td>\n",
       "      <td>5.000000</td>\n",
       "      <td>5.000000</td>\n",
       "      <td>5.00000</td>\n",
       "      <td>9.920000</td>\n",
       "      <td>1.000000</td>\n",
       "      <td>0.97000</td>\n",
       "    </tr>\n",
       "  </tbody>\n",
       "</table>\n",
       "</div>"
      ],
      "text/plain": [
       "       Serial No.   GRE Score  TOEFL Score  University Rating         SOP  \\\n",
       "count  500.000000  500.000000   500.000000         500.000000  500.000000   \n",
       "mean   250.500000  316.472000   107.192000           3.114000    3.374000   \n",
       "std    144.481833   11.295148     6.081868           1.143512    0.991004   \n",
       "min      1.000000  290.000000    92.000000           1.000000    1.000000   \n",
       "25%    125.750000  308.000000   103.000000           2.000000    2.500000   \n",
       "50%    250.500000  317.000000   107.000000           3.000000    3.500000   \n",
       "75%    375.250000  325.000000   112.000000           4.000000    4.000000   \n",
       "max    500.000000  340.000000   120.000000           5.000000    5.000000   \n",
       "\n",
       "             LOR        CGPA    Research  Chance of Admit  \n",
       "count  500.00000  500.000000  500.000000        500.00000  \n",
       "mean     3.48400    8.576440    0.560000          0.72174  \n",
       "std      0.92545    0.604813    0.496884          0.14114  \n",
       "min      1.00000    6.800000    0.000000          0.34000  \n",
       "25%      3.00000    8.127500    0.000000          0.63000  \n",
       "50%      3.50000    8.560000    1.000000          0.72000  \n",
       "75%      4.00000    9.040000    1.000000          0.82000  \n",
       "max      5.00000    9.920000    1.000000          0.97000  "
      ]
     },
     "execution_count": 2,
     "metadata": {},
     "output_type": "execute_result"
    }
   ],
   "source": [
    "# extract simple statistics for each feature\n",
    "df.describe()"
   ]
  },
  {
   "cell_type": "markdown",
   "metadata": {
    "slideshow": {
     "slide_type": "subslide"
    }
   },
   "source": [
    "#### Adding a New Column\n",
    "To add a new column to our DataFrame object we can use the `df.insert` module to create a new column, and place it directly next to the CGPA column, for convenient comparison."
   ]
  },
  {
   "cell_type": "code",
   "execution_count": 3,
   "metadata": {
    "slideshow": {
     "slide_type": "subslide"
    }
   },
   "outputs": [
    {
     "data": {
      "text/html": [
       "<div>\n",
       "<style scoped>\n",
       "    .dataframe tbody tr th:only-of-type {\n",
       "        vertical-align: middle;\n",
       "    }\n",
       "\n",
       "    .dataframe tbody tr th {\n",
       "        vertical-align: top;\n",
       "    }\n",
       "\n",
       "    .dataframe thead th {\n",
       "        text-align: right;\n",
       "    }\n",
       "</style>\n",
       "<table border=\"1\" class=\"dataframe\">\n",
       "  <thead>\n",
       "    <tr style=\"text-align: right;\">\n",
       "      <th></th>\n",
       "      <th>Serial No.</th>\n",
       "      <th>GRE Score</th>\n",
       "      <th>TOEFL Score</th>\n",
       "      <th>University Rating</th>\n",
       "      <th>SOP</th>\n",
       "      <th>LOR</th>\n",
       "      <th>GPA</th>\n",
       "      <th>CGPA</th>\n",
       "      <th>Research</th>\n",
       "      <th>Chance of Admit</th>\n",
       "    </tr>\n",
       "  </thead>\n",
       "  <tbody>\n",
       "    <tr>\n",
       "      <th>0</th>\n",
       "      <td>1</td>\n",
       "      <td>337</td>\n",
       "      <td>118</td>\n",
       "      <td>4</td>\n",
       "      <td>4.5</td>\n",
       "      <td>4.5</td>\n",
       "      <td>3.860</td>\n",
       "      <td>9.65</td>\n",
       "      <td>1</td>\n",
       "      <td>0.92</td>\n",
       "    </tr>\n",
       "    <tr>\n",
       "      <th>1</th>\n",
       "      <td>2</td>\n",
       "      <td>324</td>\n",
       "      <td>107</td>\n",
       "      <td>4</td>\n",
       "      <td>4.0</td>\n",
       "      <td>4.5</td>\n",
       "      <td>3.548</td>\n",
       "      <td>8.87</td>\n",
       "      <td>1</td>\n",
       "      <td>0.76</td>\n",
       "    </tr>\n",
       "    <tr>\n",
       "      <th>2</th>\n",
       "      <td>3</td>\n",
       "      <td>316</td>\n",
       "      <td>104</td>\n",
       "      <td>3</td>\n",
       "      <td>3.0</td>\n",
       "      <td>3.5</td>\n",
       "      <td>3.200</td>\n",
       "      <td>8.00</td>\n",
       "      <td>1</td>\n",
       "      <td>0.72</td>\n",
       "    </tr>\n",
       "    <tr>\n",
       "      <th>3</th>\n",
       "      <td>4</td>\n",
       "      <td>322</td>\n",
       "      <td>110</td>\n",
       "      <td>3</td>\n",
       "      <td>3.5</td>\n",
       "      <td>2.5</td>\n",
       "      <td>3.468</td>\n",
       "      <td>8.67</td>\n",
       "      <td>1</td>\n",
       "      <td>0.80</td>\n",
       "    </tr>\n",
       "    <tr>\n",
       "      <th>4</th>\n",
       "      <td>5</td>\n",
       "      <td>314</td>\n",
       "      <td>103</td>\n",
       "      <td>2</td>\n",
       "      <td>2.0</td>\n",
       "      <td>3.0</td>\n",
       "      <td>3.284</td>\n",
       "      <td>8.21</td>\n",
       "      <td>0</td>\n",
       "      <td>0.65</td>\n",
       "    </tr>\n",
       "  </tbody>\n",
       "</table>\n",
       "</div>"
      ],
      "text/plain": [
       "   Serial No.  GRE Score  TOEFL Score  University Rating  SOP  LOR    GPA  \\\n",
       "0           1        337          118                  4  4.5  4.5  3.860   \n",
       "1           2        324          107                  4  4.0  4.5  3.548   \n",
       "2           3        316          104                  3  3.0  3.5  3.200   \n",
       "3           4        322          110                  3  3.5  2.5  3.468   \n",
       "4           5        314          103                  2  2.0  3.0  3.284   \n",
       "\n",
       "   CGPA  Research  Chance of Admit  \n",
       "0  9.65         1             0.92  \n",
       "1  8.87         1             0.76  \n",
       "2  8.00         1             0.72  \n",
       "3  8.67         1             0.80  \n",
       "4  8.21         0             0.65  "
      ]
     },
     "execution_count": 3,
     "metadata": {},
     "output_type": "execute_result"
    }
   ],
   "source": [
    "# GPA (scores 0-4) is a normalized version of CGPA (scores between 0 and 10)\n",
    "# Create the new column \"GPA\", which equals 4*\"CGPA\"/10, and place it after the 6th column\n",
    "df.insert(6,'GPA', 4*df['CGPA']/10)\n",
    "\n",
    "# Let's always check that our changes have worked out ok.\n",
    "df.head()"
   ]
  },
  {
   "cell_type": "markdown",
   "metadata": {
    "slideshow": {
     "slide_type": "subslide"
    }
   },
   "source": [
    "### Exploring the Dataset: Features Correlations\n"
   ]
  },
  {
   "cell_type": "code",
   "execution_count": 4,
   "metadata": {
    "slideshow": {
     "slide_type": "subslide"
    }
   },
   "outputs": [
    {
     "data": {
      "image/png": "[encoded data removed]",
      "text/plain": [
       "<Figure size 432x288 with 1 Axes>"
      ]
     },
     "metadata": {
      "needs_background": "light"
     },
     "output_type": "display_data"
    }
   ],
   "source": [
    "%matplotlib inline\n",
    "import matplotlib.pyplot as plt\n",
    "df.plot(x='CGPA', y='GPA', \n",
    "        kind='scatter',title='Correlated Features',fontsize=12)\n",
    "plt.show()"
   ]
  },
  {
   "cell_type": "code",
   "execution_count": 5,
   "metadata": {
    "slideshow": {
     "slide_type": "subslide"
    }
   },
   "outputs": [
    {
     "data": {
      "image/png": "[encoded data removed]",
      "text/plain": [
       "<Figure size 432x288 with 1 Axes>"
      ]
     },
     "metadata": {
      "needs_background": "light"
     },
     "output_type": "display_data"
    }
   ],
   "source": [
    "df.plot(x='GPA', y='GRE Score', \n",
    "        kind='scatter',title='Correlated Features',fontsize=12)\n",
    "plt.show()"
   ]
  },
  {
   "cell_type": "code",
   "execution_count": 6,
   "metadata": {
    "slideshow": {
     "slide_type": "subslide"
    }
   },
   "outputs": [
    {
     "data": {
      "image/png": "[encoded data removed]",
      "text/plain": [
       "<Figure size 432x288 with 1 Axes>"
      ]
     },
     "metadata": {
      "needs_background": "light"
     },
     "output_type": "display_data"
    }
   ],
   "source": [
    "df.plot(x='TOEFL Score', y='LOR',\n",
    "        kind='scatter',title='Uncorrelated Features',fontsize=12)\n",
    "plt.show()"
   ]
  },
  {
   "cell_type": "markdown",
   "metadata": {},
   "source": [
    "**Let's look at the correlation between 'TOEFL Score' and 'GRE Score'.**"
   ]
  },
  {
   "cell_type": "code",
   "execution_count": 7,
   "metadata": {},
   "outputs": [
    {
     "data": {
      "image/png": "[encoded data removed]",
      "text/plain": [
       "<Figure size 432x288 with 1 Axes>"
      ]
     },
     "metadata": {
      "needs_background": "light"
     },
     "output_type": "display_data"
    }
   ],
   "source": [
    "df.plot(x='TOEFL Score' ,y='GRE Score', \n",
    "        kind='scatter', title='Somewhat correlated features' , fontsize=12)\n",
    "plt.show()"
   ]
  },
  {
   "cell_type": "markdown",
   "metadata": {
    "slideshow": {
     "slide_type": "slide"
    }
   },
   "source": [
    "# Checkpoint - Exploratory Analysis\n",
    "We have now accomplished a good part of this step, by loading the dataset and converting it into a `pandas.DataFrame` object. The conversion has enhanced our analysis capabilities. We have checked for feature correlations, computed simple statistics and have added a new feature (a new column).<br>\n",
    "\n",
    ">But before we get into making predictions, we still need to **better analyse the features.** \n",
    "\n",
    "After that, we´ll be ready to select the most representative feature (or features), to make a model (or models) that allows for **predictions** to be made.\n",
    "We are going to use `sklearn` to easily build **regression** models on different features. "
   ]
  },
  {
   "cell_type": "markdown",
   "metadata": {},
   "source": [
    "## Further exploring the dataset: Feature Analysis\n"
   ]
  },
  {
   "cell_type": "markdown",
   "metadata": {
    "slideshow": {
     "slide_type": "subslide"
    }
   },
   "source": [
    "## Using Scikit-Learn (pronounced cykit-learn)\n",
    "Luckly for us, we don't need to learn all the math, because it's all included in the scikit-learn library (known as `sklearn`). This library includes several machine learning tools (see <a href=\"https://scikit-learn.org/stable/\">webpage</a>!), including all sort of regression methods.<br>\n",
    "What's left now is to learn how to use `sklearn` and use our time for analyzing the data. <br>\n",
    "We have already loaded our dataset with `pandas`, creating the DataFrame of our dataset as **df**."
   ]
  },
  {
   "cell_type": "markdown",
   "metadata": {
    "slideshow": {
     "slide_type": "subslide"
    }
   },
   "source": [
    "### Extracting the Response Term: what do you want to predict?\n",
    "The **response** is the variable we eventually want to be able to predict. It is also referred to as the ***regressand***."
   ]
  },
  {
   "cell_type": "code",
   "execution_count": 8,
   "metadata": {
    "slideshow": {
     "slide_type": "subslide"
    }
   },
   "outputs": [
    {
     "data": {
      "text/plain": [
       "0    0.92\n",
       "1    0.76\n",
       "2    0.72\n",
       "3    0.80\n",
       "4    0.65\n",
       "Name: Chance of Admit, dtype: float64"
      ]
     },
     "execution_count": 8,
     "metadata": {},
     "output_type": "execute_result"
    }
   ],
   "source": [
    "# Extract the regressand, Y, from the data frame\n",
    "sampleData_Y = df.loc[:,'Chance of Admit']\n",
    "sampleData_Y.head()"
   ]
  },
  {
   "cell_type": "markdown",
   "metadata": {
    "slideshow": {
     "slide_type": "subslide"
    }
   },
   "source": [
    "### Extracting Our Observation Terms: which features can I use?\n",
    "The **observations** are the feature values that we want to use to determine their relationship to the response, which is eventually to be used to make predictions. They are also known as the ***regressors***."
   ]
  },
  {
   "cell_type": "code",
   "execution_count": 9,
   "metadata": {
    "scrolled": true,
    "slideshow": {
     "slide_type": "subslide"
    }
   },
   "outputs": [
    {
     "data": {
      "text/html": [
       "<div>\n",
       "<style scoped>\n",
       "    .dataframe tbody tr th:only-of-type {\n",
       "        vertical-align: middle;\n",
       "    }\n",
       "\n",
       "    .dataframe tbody tr th {\n",
       "        vertical-align: top;\n",
       "    }\n",
       "\n",
       "    .dataframe thead th {\n",
       "        text-align: right;\n",
       "    }\n",
       "</style>\n",
       "<table border=\"1\" class=\"dataframe\">\n",
       "  <thead>\n",
       "    <tr style=\"text-align: right;\">\n",
       "      <th></th>\n",
       "      <th>Serial No.</th>\n",
       "      <th>GRE Score</th>\n",
       "      <th>TOEFL Score</th>\n",
       "      <th>University Rating</th>\n",
       "      <th>SOP</th>\n",
       "      <th>LOR</th>\n",
       "      <th>GPA</th>\n",
       "      <th>CGPA</th>\n",
       "      <th>Research</th>\n",
       "    </tr>\n",
       "  </thead>\n",
       "  <tbody>\n",
       "    <tr>\n",
       "      <th>0</th>\n",
       "      <td>1</td>\n",
       "      <td>337</td>\n",
       "      <td>118</td>\n",
       "      <td>4</td>\n",
       "      <td>4.5</td>\n",
       "      <td>4.5</td>\n",
       "      <td>3.860</td>\n",
       "      <td>9.65</td>\n",
       "      <td>1</td>\n",
       "    </tr>\n",
       "    <tr>\n",
       "      <th>1</th>\n",
       "      <td>2</td>\n",
       "      <td>324</td>\n",
       "      <td>107</td>\n",
       "      <td>4</td>\n",
       "      <td>4.0</td>\n",
       "      <td>4.5</td>\n",
       "      <td>3.548</td>\n",
       "      <td>8.87</td>\n",
       "      <td>1</td>\n",
       "    </tr>\n",
       "    <tr>\n",
       "      <th>2</th>\n",
       "      <td>3</td>\n",
       "      <td>316</td>\n",
       "      <td>104</td>\n",
       "      <td>3</td>\n",
       "      <td>3.0</td>\n",
       "      <td>3.5</td>\n",
       "      <td>3.200</td>\n",
       "      <td>8.00</td>\n",
       "      <td>1</td>\n",
       "    </tr>\n",
       "    <tr>\n",
       "      <th>3</th>\n",
       "      <td>4</td>\n",
       "      <td>322</td>\n",
       "      <td>110</td>\n",
       "      <td>3</td>\n",
       "      <td>3.5</td>\n",
       "      <td>2.5</td>\n",
       "      <td>3.468</td>\n",
       "      <td>8.67</td>\n",
       "      <td>1</td>\n",
       "    </tr>\n",
       "    <tr>\n",
       "      <th>4</th>\n",
       "      <td>5</td>\n",
       "      <td>314</td>\n",
       "      <td>103</td>\n",
       "      <td>2</td>\n",
       "      <td>2.0</td>\n",
       "      <td>3.0</td>\n",
       "      <td>3.284</td>\n",
       "      <td>8.21</td>\n",
       "      <td>0</td>\n",
       "    </tr>\n",
       "  </tbody>\n",
       "</table>\n",
       "</div>"
      ],
      "text/plain": [
       "   Serial No.  GRE Score  TOEFL Score  University Rating  SOP  LOR    GPA  \\\n",
       "0           1        337          118                  4  4.5  4.5  3.860   \n",
       "1           2        324          107                  4  4.0  4.5  3.548   \n",
       "2           3        316          104                  3  3.0  3.5  3.200   \n",
       "3           4        322          110                  3  3.5  2.5  3.468   \n",
       "4           5        314          103                  2  2.0  3.0  3.284   \n",
       "\n",
       "   CGPA  Research  \n",
       "0  9.65         1  \n",
       "1  8.87         1  \n",
       "2  8.00         1  \n",
       "3  8.67         1  \n",
       "4  8.21         0  "
      ]
     },
     "execution_count": 9,
     "metadata": {},
     "output_type": "execute_result"
    }
   ],
   "source": [
    "# Extract the regressors, X, from the data frame\n",
    "sampleData_X  = df.loc[:,'Serial No.':'Research']\n",
    "sampleData_X.columns\n",
    "sampleData_X.head()"
   ]
  },
  {
   "cell_type": "markdown",
   "metadata": {},
   "source": [
    "### Some features are more informative than others: which feature(s) should I use?\n",
    "Often you may be confronted with many features. Yet, not all of them will be helpful for making predictions.<br>\n",
    "An important task is to determine which feature(s) (i.e. the regressor columns) is most informative and most helpful for making predictions.\n",
    "#### The F-test\n",
    "In our example we are going to adopt the `F-test` to compute the significance of our features, with the aim to find the two best (most indicative) features.<br>\n",
    "In regression the `F-test` compares the fits of different linear models. The F-test can assess multiple coefficients simultaneously.<br>\n",
    "We use the `f_regression` module and the `SelectKBest` module to select the `k=2` features. Both modules are part of the `scikit-learn` package.<br>\n",
    "**The SelectKBest class just scores the features using a function (in this case `f_regression` but could be others) and then \"removes all but the k highest scoring features\"**\n"
   ]
  },
  {
   "cell_type": "code",
   "execution_count": 10,
   "metadata": {
    "scrolled": true,
    "slideshow": {
     "slide_type": "subslide"
    }
   },
   "outputs": [
    {
     "data": {
      "text/html": [
       "<div>\n",
       "<style scoped>\n",
       "    .dataframe tbody tr th:only-of-type {\n",
       "        vertical-align: middle;\n",
       "    }\n",
       "\n",
       "    .dataframe tbody tr th {\n",
       "        vertical-align: top;\n",
       "    }\n",
       "\n",
       "    .dataframe thead th {\n",
       "        text-align: right;\n",
       "    }\n",
       "</style>\n",
       "<table border=\"1\" class=\"dataframe\">\n",
       "  <thead>\n",
       "    <tr style=\"text-align: right;\">\n",
       "      <th></th>\n",
       "      <th>GPA</th>\n",
       "      <th>CGPA</th>\n",
       "    </tr>\n",
       "  </thead>\n",
       "  <tbody>\n",
       "    <tr>\n",
       "      <th>0</th>\n",
       "      <td>3.860</td>\n",
       "      <td>9.65</td>\n",
       "    </tr>\n",
       "    <tr>\n",
       "      <th>1</th>\n",
       "      <td>3.548</td>\n",
       "      <td>8.87</td>\n",
       "    </tr>\n",
       "    <tr>\n",
       "      <th>2</th>\n",
       "      <td>3.200</td>\n",
       "      <td>8.00</td>\n",
       "    </tr>\n",
       "    <tr>\n",
       "      <th>3</th>\n",
       "      <td>3.468</td>\n",
       "      <td>8.67</td>\n",
       "    </tr>\n",
       "    <tr>\n",
       "      <th>4</th>\n",
       "      <td>3.284</td>\n",
       "      <td>8.21</td>\n",
       "    </tr>\n",
       "  </tbody>\n",
       "</table>\n",
       "</div>"
      ],
      "text/plain": [
       "     GPA  CGPA\n",
       "0  3.860  9.65\n",
       "1  3.548  8.87\n",
       "2  3.200  8.00\n",
       "3  3.468  8.67\n",
       "4  3.284  8.21"
      ]
     },
     "execution_count": 10,
     "metadata": {},
     "output_type": "execute_result"
    }
   ],
   "source": [
    "from sklearn.feature_selection import SelectKBest, f_regression\n",
    "\n",
    "k=2 # set the number of best-feature under scrutiny to 2\n",
    "# you could set k to a higher number but computations will soon become overwhelming\n",
    "# alway try to keep the problem/variables under control, don´t overdo.\n",
    "# overdoing causes not only excessive computation but also the risk of overfitting\n",
    "\n",
    "# create a handle to the feature selector\n",
    "selector = SelectKBest(f_regression,k=k)\n",
    "\n",
    "# fit to our sample data\n",
    "selector.fit(sampleData_X, sampleData_Y)\n",
    "\n",
    "# computes the best features (2 of them, because K=2)\n",
    "best_feats = selector.get_support(indices=True)\n",
    "\n",
    "# select the two columns corresponding to the best features\n",
    "xTrain_best = sampleData_X.iloc[:,best_feats]\n",
    "\n",
    "# show the best 2 features computed so far\n",
    "xTrain_best.head()"
   ]
  },
  {
   "cell_type": "markdown",
   "metadata": {},
   "source": [
    "### Let's draw some considerations\n",
    "An interesting result is that the best two features are `GPA` and, then, `CGPA`. <br>\n",
    "**Can we do even better?**<br>\n",
    "Of course we can!! We have already seen that `CGPA` and `GPA` are highly correlated features (indeed one is the re-normalized version of the other). So we are working with two **redundant** features. \n",
    "**Let's eliminate `CGPA` from the dataset and repeat the whole feature selection process**. In this way we hope to find a second informative feature that is (hopefully) less correlated to `GPA`."
   ]
  },
  {
   "cell_type": "code",
   "execution_count": 11,
   "metadata": {},
   "outputs": [
    {
     "data": {
      "text/html": [
       "<div>\n",
       "<style scoped>\n",
       "    .dataframe tbody tr th:only-of-type {\n",
       "        vertical-align: middle;\n",
       "    }\n",
       "\n",
       "    .dataframe tbody tr th {\n",
       "        vertical-align: top;\n",
       "    }\n",
       "\n",
       "    .dataframe thead th {\n",
       "        text-align: right;\n",
       "    }\n",
       "</style>\n",
       "<table border=\"1\" class=\"dataframe\">\n",
       "  <thead>\n",
       "    <tr style=\"text-align: right;\">\n",
       "      <th></th>\n",
       "      <th>Serial No.</th>\n",
       "      <th>GRE Score</th>\n",
       "      <th>TOEFL Score</th>\n",
       "      <th>University Rating</th>\n",
       "      <th>SOP</th>\n",
       "      <th>LOR</th>\n",
       "      <th>GPA</th>\n",
       "      <th>Research</th>\n",
       "    </tr>\n",
       "  </thead>\n",
       "  <tbody>\n",
       "    <tr>\n",
       "      <th>0</th>\n",
       "      <td>1</td>\n",
       "      <td>337</td>\n",
       "      <td>118</td>\n",
       "      <td>4</td>\n",
       "      <td>4.5</td>\n",
       "      <td>4.5</td>\n",
       "      <td>3.860</td>\n",
       "      <td>1</td>\n",
       "    </tr>\n",
       "    <tr>\n",
       "      <th>1</th>\n",
       "      <td>2</td>\n",
       "      <td>324</td>\n",
       "      <td>107</td>\n",
       "      <td>4</td>\n",
       "      <td>4.0</td>\n",
       "      <td>4.5</td>\n",
       "      <td>3.548</td>\n",
       "      <td>1</td>\n",
       "    </tr>\n",
       "    <tr>\n",
       "      <th>2</th>\n",
       "      <td>3</td>\n",
       "      <td>316</td>\n",
       "      <td>104</td>\n",
       "      <td>3</td>\n",
       "      <td>3.0</td>\n",
       "      <td>3.5</td>\n",
       "      <td>3.200</td>\n",
       "      <td>1</td>\n",
       "    </tr>\n",
       "    <tr>\n",
       "      <th>3</th>\n",
       "      <td>4</td>\n",
       "      <td>322</td>\n",
       "      <td>110</td>\n",
       "      <td>3</td>\n",
       "      <td>3.5</td>\n",
       "      <td>2.5</td>\n",
       "      <td>3.468</td>\n",
       "      <td>1</td>\n",
       "    </tr>\n",
       "    <tr>\n",
       "      <th>4</th>\n",
       "      <td>5</td>\n",
       "      <td>314</td>\n",
       "      <td>103</td>\n",
       "      <td>2</td>\n",
       "      <td>2.0</td>\n",
       "      <td>3.0</td>\n",
       "      <td>3.284</td>\n",
       "      <td>0</td>\n",
       "    </tr>\n",
       "  </tbody>\n",
       "</table>\n",
       "</div>"
      ],
      "text/plain": [
       "   Serial No.  GRE Score  TOEFL Score  University Rating  SOP  LOR    GPA  \\\n",
       "0           1        337          118                  4  4.5  4.5  3.860   \n",
       "1           2        324          107                  4  4.0  4.5  3.548   \n",
       "2           3        316          104                  3  3.0  3.5  3.200   \n",
       "3           4        322          110                  3  3.5  2.5  3.468   \n",
       "4           5        314          103                  2  2.0  3.0  3.284   \n",
       "\n",
       "   Research  \n",
       "0         1  \n",
       "1         1  \n",
       "2         1  \n",
       "3         1  \n",
       "4         0  "
      ]
     },
     "execution_count": 11,
     "metadata": {},
     "output_type": "execute_result"
    }
   ],
   "source": [
    "# Drop or delete 'CGPA' from the columns\n",
    "newX_train = sampleData_X.drop('CGPA',axis=1)\n",
    "newX_train.head()"
   ]
  },
  {
   "cell_type": "markdown",
   "metadata": {},
   "source": [
    "Now that the similar column has been dropped, **let's find the new top features!**"
   ]
  },
  {
   "cell_type": "code",
   "execution_count": 12,
   "metadata": {},
   "outputs": [
    {
     "data": {
      "text/html": [
       "<div>\n",
       "<style scoped>\n",
       "    .dataframe tbody tr th:only-of-type {\n",
       "        vertical-align: middle;\n",
       "    }\n",
       "\n",
       "    .dataframe tbody tr th {\n",
       "        vertical-align: top;\n",
       "    }\n",
       "\n",
       "    .dataframe thead th {\n",
       "        text-align: right;\n",
       "    }\n",
       "</style>\n",
       "<table border=\"1\" class=\"dataframe\">\n",
       "  <thead>\n",
       "    <tr style=\"text-align: right;\">\n",
       "      <th></th>\n",
       "      <th>GRE Score</th>\n",
       "      <th>GPA</th>\n",
       "    </tr>\n",
       "  </thead>\n",
       "  <tbody>\n",
       "    <tr>\n",
       "      <th>0</th>\n",
       "      <td>337</td>\n",
       "      <td>3.860</td>\n",
       "    </tr>\n",
       "    <tr>\n",
       "      <th>1</th>\n",
       "      <td>324</td>\n",
       "      <td>3.548</td>\n",
       "    </tr>\n",
       "    <tr>\n",
       "      <th>2</th>\n",
       "      <td>316</td>\n",
       "      <td>3.200</td>\n",
       "    </tr>\n",
       "    <tr>\n",
       "      <th>3</th>\n",
       "      <td>322</td>\n",
       "      <td>3.468</td>\n",
       "    </tr>\n",
       "    <tr>\n",
       "      <th>4</th>\n",
       "      <td>314</td>\n",
       "      <td>3.284</td>\n",
       "    </tr>\n",
       "  </tbody>\n",
       "</table>\n",
       "</div>"
      ],
      "text/plain": [
       "   GRE Score    GPA\n",
       "0        337  3.860\n",
       "1        324  3.548\n",
       "2        316  3.200\n",
       "3        322  3.468\n",
       "4        314  3.284"
      ]
     },
     "execution_count": 12,
     "metadata": {},
     "output_type": "execute_result"
    }
   ],
   "source": [
    "from sklearn.feature_selection import SelectKBest, f_regression\n",
    "selector = SelectKBest(f_regression,k=k)\n",
    "newX_feats = selector.fit_transform(newX_train, sampleData_Y)\n",
    "best_feats = selector.get_support(indices=True)\n",
    "xTrain_best = newX_train.iloc[:,best_feats]\n",
    "xTrain_best.head()"
   ]
  },
  {
   "cell_type": "markdown",
   "metadata": {},
   "source": [
    "### Let's draw some considerations\n",
    "**Let's notice something really interesting here!**\n",
    "After removing the second best feature (`CGPA`), which was redundant, we have discovered a new best feature (`GRE Score`). This was somehow hidden in the previous computations. <br>\n",
    "This shows, once more, the importance of the **exploratory** analysis that we have been doing **before starting with any fancy machine learning methods**.<br>\n",
    "**We can make some more considerations, which are not always intuitive:**<br>\n",
    "For instance, the `University Rating` feature doesn't appear in the top most informative features. However, this is the outcome of a merely **objective analysis** (based on the available data only).\n",
    "\n",
    "Alternatively, we could make **subjective** considerations that correlate the ranking of a certain university with the probability of getting admission. <br>\n",
    "\n",
    ">***For instance, would it be true that seeking admission to a lower-ranked university leads to a higher probability of admission?***<br>\n",
    "According to this dataset, this is not necessarily true. \n",
    "\n",
    "## Next steps: Build, train and evaluate a linear regression model (on the best features)\n",
    "We now have the most informative features for calculating the probability of getting accepted to a graduate school program, and the data has been separated into the $X$ and $Y$ sets.<br> \n",
    ">It is now time to import some modules to help us build, train, and evaluate a linear regression model:"
   ]
  },
  {
   "cell_type": "markdown",
   "metadata": {
    "slideshow": {
     "slide_type": "slide"
    }
   },
   "source": [
    "# Step 3: Making predictions\n",
    "![PA Work Flow4](./images/Predictive_Analysis_Flow4.png)"
   ]
  },
  {
   "cell_type": "markdown",
   "metadata": {
    "slideshow": {
     "slide_type": "subslide"
    }
   },
   "source": [
    "## Applications of Linear Regression: what is it and how is it typically used?\n",
    "From trend lines to mortality rates, linear regression appears in virtually every field, due to its versatility. Linear regressions are a vital tool to any data scientist or data analyst due to their ability to capture accurate relationships using a relatively simple tool.<br>\n",
    ">**Simplicity should be the ultimate goal when analyzing data!**"
   ]
  },
  {
   "cell_type": "markdown",
   "metadata": {
    "hide_input": false,
    "slideshow": {
     "slide_type": "subslide"
    }
   },
   "source": [
    "## Examples in Real-World Situations\n",
    "Here are some examples of linear regressions applied in real-world situations!\n",
    "\n",
    "#### GPA Example\n",
    "<img src=\"./linear_regression_examples/gpa_ex.jpg\" alt=\"Drawing\" style=\"width: 300px;\" />\n",
    "\n",
    "#### Finance Example\n",
    "<img src=\"./linear_regression_examples/salary_ex.png\" alt=\"Drawing\" style=\"width: 300px;\" />\n",
    "\n",
    "#### Medicine Example\n",
    "<img src=\"./linear_regression_examples/medicine_ex.jpg\" alt=\"Drawing\" style=\"width: 300px;\" />"
   ]
  },
  {
   "cell_type": "markdown",
   "metadata": {
    "slideshow": {
     "slide_type": "subslide"
    }
   },
   "source": [
    "## What is regression and what is it for?\n",
    "**Regression refers to fitting some data to some function**, thus, realizing a relationship between variables that may not be obvious upon initial inspection.\n",
    "\n",
    "We can describe one or more variables as a mathematical equation of one or more desired variables in the dataset. This allows individuals to be able to *predict* the value of variable, or response variable, using the present values of a model consisting of its terms. \n",
    "**In linear regression, we are aiming to fit our data to a line.**\n",
    ">“It is likely that 90% or more of real-world applications of data mining end up with a relatively simple regression as the final model, typically after very careful data preparation, encoding, and creation of variables.” – James Wu and Stephen Coggeshall"
   ]
  },
  {
   "cell_type": "markdown",
   "metadata": {
    "slideshow": {
     "slide_type": "subslide"
    }
   },
   "source": [
    "##  A Tiny Bit of Math...\n",
    "Consider the basic linear regression model to follow the syntax:\n",
    "\n",
    "$$ Y = \\beta X +\\epsilon$$ \n",
    "\n",
    "Does the equation look familiar? It is simply the equation for a line, having **slope** $\\beta$ and **intercept** $\\epsilon$. This ability to describe a response with such simplicity is what makes the linear regression the perfect first tool for the data scientist.<br>\n",
    ">**Check out this web page to play with linear regression:**\n",
    "http://www.battaly.com/stat/geogebra/linearregression/"
   ]
  },
  {
   "cell_type": "markdown",
   "metadata": {},
   "source": [
    "## Fitting data to a line is your very first machine learning algorithm"
   ]
  },
  {
   "cell_type": "markdown",
   "metadata": {
    "slideshow": {
     "slide_type": "subslide"
    }
   },
   "source": [
    "![regress in action](linear_regression_examples/regression_animated.gif \"regress in action\")"
   ]
  },
  {
   "cell_type": "markdown",
   "metadata": {},
   "source": [
    ">### IMPORTANT: don't use the whole dataset for training.\n",
    "> Otherwise, you´ll have no way for testing out your model.\n",
    "> #### UNTESTED models are useless!\n",
    "\n",
    "### Always partition your data into \"training\" and \"testing\" sets\n",
    "***Wouldn't it make sense to use as much data as possible to build our model?***<br>\n",
    "In general, we want to use as much data as possible. But if we use all data to build the model, how can we test it out?<br>\n",
    "That's why we need to split our dataset into two subsets, to be used for training and testing, respectively. <br>\n",
    "We'll show later on how to test the model's performance. <br>\n",
    "Let's built it first.\n",
    "\n",
    "![](./images/fig-holdout.png)\n",
    "\n",
    "### How do we split a dataset in Python?\n",
    "The `train_test_split` from `sklearn` separates the data and classes into the two sets by **randomly assigning samples** to either the training set or the testing set. \n",
    "> We wouldn´t want to pick samples manually, to avoid systematic error, bias, ... and the manual labor!"
   ]
  },
  {
   "cell_type": "code",
   "execution_count": 13,
   "metadata": {},
   "outputs": [],
   "source": [
    "from sklearn.model_selection import train_test_split # Function for random splitting of data set\n",
    "from sklearn import linear_model # Function to create linear regression models\n",
    "from sklearn.metrics import mean_squared_error, r2_score # Functions used to evaluate models"
   ]
  },
  {
   "cell_type": "code",
   "execution_count": 14,
   "metadata": {},
   "outputs": [],
   "source": [
    "# Partition the dataset into training and testing subset\n",
    "xTrain, xTest, yTrain, yTest = train_test_split(xTrain_best, # First argument is the whole observation set including only the best features\n",
    "                                                sampleData_Y, # Second is the corresponding regressand (Chance of Admit)\n",
    "                                                test_size=0.33, # Use 33% of the samples for testing\n",
    "                                                random_state=42) # The random state tells the function to use the \n",
    "                                                                 # same random samples whenever its assigned the \n",
    "                                                                 # number 42. So your experiments can be replicated"
   ]
  },
  {
   "cell_type": "code",
   "execution_count": 15,
   "metadata": {
    "scrolled": false
   },
   "outputs": [
    {
     "data": {
      "text/html": [
       "<div>\n",
       "<style scoped>\n",
       "    .dataframe tbody tr th:only-of-type {\n",
       "        vertical-align: middle;\n",
       "    }\n",
       "\n",
       "    .dataframe tbody tr th {\n",
       "        vertical-align: top;\n",
       "    }\n",
       "\n",
       "    .dataframe thead th {\n",
       "        text-align: right;\n",
       "    }\n",
       "</style>\n",
       "<table border=\"1\" class=\"dataframe\">\n",
       "  <thead>\n",
       "    <tr style=\"text-align: right;\">\n",
       "      <th></th>\n",
       "      <th>GRE Score</th>\n",
       "      <th>GPA</th>\n",
       "    </tr>\n",
       "  </thead>\n",
       "  <tbody>\n",
       "    <tr>\n",
       "      <th>471</th>\n",
       "      <td>311</td>\n",
       "      <td>3.236</td>\n",
       "    </tr>\n",
       "    <tr>\n",
       "      <th>26</th>\n",
       "      <td>322</td>\n",
       "      <td>3.520</td>\n",
       "    </tr>\n",
       "    <tr>\n",
       "      <th>7</th>\n",
       "      <td>308</td>\n",
       "      <td>3.160</td>\n",
       "    </tr>\n",
       "    <tr>\n",
       "      <th>453</th>\n",
       "      <td>319</td>\n",
       "      <td>3.504</td>\n",
       "    </tr>\n",
       "    <tr>\n",
       "      <th>108</th>\n",
       "      <td>331</td>\n",
       "      <td>3.752</td>\n",
       "    </tr>\n",
       "  </tbody>\n",
       "</table>\n",
       "</div>"
      ],
      "text/plain": [
       "     GRE Score    GPA\n",
       "471        311  3.236\n",
       "26         322  3.520\n",
       "7          308  3.160\n",
       "453        319  3.504\n",
       "108        331  3.752"
      ]
     },
     "execution_count": 15,
     "metadata": {},
     "output_type": "execute_result"
    }
   ],
   "source": [
    "xTrain.head()"
   ]
  },
  {
   "cell_type": "code",
   "execution_count": 16,
   "metadata": {},
   "outputs": [
    {
     "data": {
      "text/html": [
       "<div>\n",
       "<style scoped>\n",
       "    .dataframe tbody tr th:only-of-type {\n",
       "        vertical-align: middle;\n",
       "    }\n",
       "\n",
       "    .dataframe tbody tr th {\n",
       "        vertical-align: top;\n",
       "    }\n",
       "\n",
       "    .dataframe thead th {\n",
       "        text-align: right;\n",
       "    }\n",
       "</style>\n",
       "<table border=\"1\" class=\"dataframe\">\n",
       "  <thead>\n",
       "    <tr style=\"text-align: right;\">\n",
       "      <th></th>\n",
       "      <th>GRE Score</th>\n",
       "      <th>GPA</th>\n",
       "    </tr>\n",
       "  </thead>\n",
       "  <tbody>\n",
       "    <tr>\n",
       "      <th>361</th>\n",
       "      <td>334</td>\n",
       "      <td>3.816</td>\n",
       "    </tr>\n",
       "    <tr>\n",
       "      <th>73</th>\n",
       "      <td>314</td>\n",
       "      <td>3.616</td>\n",
       "    </tr>\n",
       "    <tr>\n",
       "      <th>374</th>\n",
       "      <td>315</td>\n",
       "      <td>3.060</td>\n",
       "    </tr>\n",
       "    <tr>\n",
       "      <th>155</th>\n",
       "      <td>312</td>\n",
       "      <td>3.476</td>\n",
       "    </tr>\n",
       "    <tr>\n",
       "      <th>104</th>\n",
       "      <td>326</td>\n",
       "      <td>3.620</td>\n",
       "    </tr>\n",
       "  </tbody>\n",
       "</table>\n",
       "</div>"
      ],
      "text/plain": [
       "     GRE Score    GPA\n",
       "361        334  3.816\n",
       "73         314  3.616\n",
       "374        315  3.060\n",
       "155        312  3.476\n",
       "104        326  3.620"
      ]
     },
     "execution_count": 16,
     "metadata": {},
     "output_type": "execute_result"
    }
   ],
   "source": [
    "xTest.head()"
   ]
  },
  {
   "cell_type": "markdown",
   "metadata": {},
   "source": [
    "### Let's finally create the regression model\n",
    "Our data is ready for analysis but we still have no model! \n",
    ">**We can create the linear regression model using a single line of code from `sklearn`**"
   ]
  },
  {
   "cell_type": "code",
   "execution_count": 17,
   "metadata": {},
   "outputs": [],
   "source": [
    "# Import the function to create linear regression model from the sklearn library\n",
    "from sklearn import linear_model \n",
    "\n",
    "# Create linear regression instance and assign it to the variable 'linModel' \n",
    "linModel = linear_model.LinearRegression()"
   ]
  },
  {
   "cell_type": "markdown",
   "metadata": {},
   "source": [
    "It is as easy as that. If you are curious about how to use different models, I implore you to visit the `sklearn` webpage previously linked. For more information on the model we just instantiated, such as parameters we could have used to characterize it, methods/functions it uses, etc., Python has a `help()` command. To use `help()`, type the command with function or object in query surrounded by single quotes inside the parentheses, like so:"
   ]
  },
  {
   "cell_type": "code",
   "execution_count": 18,
   "metadata": {
    "tags": [
     "hide_output"
    ]
   },
   "outputs": [],
   "source": [
    "# uncomment the next line to find out more about the LinearRegression package\n",
    "#help('sklearn.linear_model.base.LinearRegression')"
   ]
  },
  {
   "cell_type": "markdown",
   "metadata": {
    "slideshow": {
     "slide_type": "slide"
    }
   },
   "source": [
    "# Checkpoint -  Formulating a Solution Starting with Some Data Prep\n",
    "* We've separated the data into our **response variable** (what we want to predict) and **observations* (what we use to make predictions upon);\n",
    "* We've used F-score regression to select the **best features**, and observed how correlation affects which features are more informative;\n",
    "* We've divided our dataset into **training** and **testing** samples to improve generalizability;\n",
    "* We've created a **linear regression instance** <code>linModel</code> to be **trained** and **evaluated**."
   ]
  },
  {
   "cell_type": "markdown",
   "metadata": {},
   "source": [
    "## Training Our Regression\n",
    "Now that model is created, we need to train it to find the best parameters for making predictions.  Recall that training the linear regression model is solving eq(4) for $\\beta$ using the training samples in both $X$ and $Y$. To train the `linModel` we need to use it's `fit` method. This method takes the supplied inputs as $X$ and $Y$. Here is how to train the model:"
   ]
  },
  {
   "cell_type": "code",
   "execution_count": 19,
   "metadata": {},
   "outputs": [
    {
     "data": {
      "text/plain": [
       "LinearRegression()"
      ]
     },
     "execution_count": 19,
     "metadata": {},
     "output_type": "execute_result"
    }
   ],
   "source": [
    "# Train the model using the training dataset\n",
    "linModel.fit(X=xTrain.values, y=yTrain.values)"
   ]
  },
  {
   "cell_type": "markdown",
   "metadata": {},
   "source": [
    "> **You´ll find the model plotted against the actual data at the bottom of this notebook**"
   ]
  },
  {
   "cell_type": "markdown",
   "metadata": {},
   "source": [
    "# Step 4: How can we assess the model accuracy?\n",
    "![Pred Analysis Flow4](./images/Predictive_Analysis_Flow5.png)"
   ]
  },
  {
   "cell_type": "markdown",
   "metadata": {},
   "source": [
    "## A quick preliminary test of our Regression\n",
    "During the testing phase we supply the model with samples that it has never seen before. In this way we can evaluate how the model performs on data that has not been used for training.<br>\n",
    "> **The testing set is our ground truth**\n",
    "\n",
    "The following line is the command to test the linear regression model that was previously tuned: "
   ]
  },
  {
   "cell_type": "code",
   "execution_count": 20,
   "metadata": {},
   "outputs": [],
   "source": [
    "# Test the model\n",
    "y_predLin = linModel.predict(xTest.values)"
   ]
  },
  {
   "cell_type": "markdown",
   "metadata": {},
   "source": [
    "**Quick verification, to check how the model is performing**"
   ]
  },
  {
   "cell_type": "code",
   "execution_count": 21,
   "metadata": {
    "scrolled": true
   },
   "outputs": [
    {
     "name": "stdout",
     "output_type": "stream",
     "text": [
      "actual value predicted value\n",
      "0.84         0.7870803435247902\n",
      "0.39         0.5752484917998542\n",
      "0.77         0.725995866206359\n",
      "0.74         0.8299055148456802\n",
      "0.89         0.8681015208025398\n",
      "0.47         0.4753174309399679\n",
      "0.57         0.6540873585939513\n",
      "0.68         0.8287160540723504\n",
      "0.82         0.7798416788842328\n"
     ]
    }
   ],
   "source": [
    "#let's print the first few results\n",
    "print(\"actual value\", \"predicted value\")\n",
    "i = 1\n",
    "while i < 10:\n",
    "    print(yTest.values[i],\"       \", y_predLin[i])  \n",
    "    i += 1"
   ]
  },
  {
   "cell_type": "markdown",
   "metadata": {},
   "source": [
    "## The Metrics for Evaluating Performance\n",
    "Now that we have a linear regression model we need to see how accurate it is. We can do this by calculating the difference between our predictions made on the test set, and their actual chance of admittance using the `mean_squared_error` module from the `sckit-learn` package."
   ]
  },
  {
   "cell_type": "code",
   "execution_count": 22,
   "metadata": {
    "scrolled": true
   },
   "outputs": [
    {
     "name": "stdout",
     "output_type": "stream",
     "text": [
      "The Mean Squared Error = 0.004\n"
     ]
    }
   ],
   "source": [
    "mseLin = mean_squared_error(yTest.values, y_predLin)\n",
    "print('The Mean Squared Error = {0:.3f}'.format(mseLin))"
   ]
  },
  {
   "cell_type": "markdown",
   "metadata": {},
   "source": [
    "### How did we do according to MSE?\n",
    "The Mean Squared Error (MSE) was 0.004, or 0.4%, which means our accuracy is approximately 99.6%. That means our model is decent. Depending on the application, a \"good\" error result is relative to the task and the dataset provided. For instance, medical diagnosis may wish to have an accuracy closer to 98%."
   ]
  },
  {
   "cell_type": "markdown",
   "metadata": {},
   "source": [
    "### What's the MSE?\n",
    "\n",
    "In statistics, the mean squared error (MSE) of an **estimator** (of a procedure for estimating an unobserved quantity) measures the **average of the squares of the errors** —that is, the average squared difference between the estimated values and the actual value. MSE is a **risk function**, corresponding to the expected value of the squared error loss. The fact that MSE is almost always strictly positive (and not zero) is because of randomness or because the estimator does not account for information that could produce a more accurate estimate.\n",
    "\n",
    "![](./images/MSE.png)\n",
    "\n",
    ">#### The MSE is a measure of the quality of an estimator—it is always non-negative, and values closer to zero are better.\n",
    "The larger the number the larger the error. Error in this case means the difference between the observed values y1, y2, y3, … and the predicted ones pred(y1), pred(y2), pred(y3)\n",
    "We square each difference (pred(yn) – yn)) ** 2 so that **negative and positive values do not cancel each other out.**\n",
    "\n"
   ]
  },
  {
   "cell_type": "markdown",
   "metadata": {},
   "source": [
    "### The $R^{2}$ (pronounced r-squared) i.e. the coefficient of determination (regression score function)\n",
    "Another metric used for model evaluation is $R^{2}$ (computed as the square of the correlation coefficient).<br>\n",
    "$R^{2}$ **gives you an idea of how many data points fall within the results of the line formed by the regression equation.**<br>\n",
    "$R^{2}$ is **the proportion of the variation in the dependent variable that is predictable from the independent variable (or variables).** It provides a measure of how well observed outcomes are replicated by the model, based on the proportion of total variation of outcomes explained by the model. Or, in other words, **it is the amount of explained variance compared to the total variance.**\n",
    "\n",
    "**R-squared = Explained variation / Total variation**\n",
    "\n",
    "**R-squared is comprised between 0 and 100%:**\n",
    "- 0% indicates that the model explains none of the variability of the response data around its mean.\n",
    "- 100% indicates that the model explains all the variability of the response data around its mean.\n",
    "\n",
    "This idea is captured in the image below.  \n",
    "\n",
    "![R2Explained](./images/r2_explained.PNG)\n",
    "\n",
    "The regression model on the left accounts for 38.0% of the variance while the one on the right accounts for 87.4%. The more variance that is accounted for by the regression model the closer the data points will fall to the fitted regression line. Theoretically, if a model could explain 100% of the variance, the fitted values would always equal the observed values and, therefore, all the data points would fall on the fitted regression line.\n",
    "\n",
    "### $R^{2}$ vs correlation\n",
    "While **correlation explains the strength of the relationship** between an independent and dependent variable, **R-squared explains to what extent the variance of one variable explains the variance of the second variable.**<br>\n",
    "So, if the $R^{2}$ of a model is 0.50, then approximately half of the observed variation can be explained by the model's inputs.\n",
    "\n"
   ]
  },
  {
   "cell_type": "markdown",
   "metadata": {},
   "source": [
    ">In Python, we can use `r2_score` to calculate this value. Once again, the significance of this value is application specific, so there is no one good $R^{2}$ value that works for all cases. **Values closer to 1 are better.**\n"
   ]
  },
  {
   "cell_type": "code",
   "execution_count": 23,
   "metadata": {},
   "outputs": [
    {
     "name": "stdout",
     "output_type": "stream",
     "text": [
      "Goodness of Fit: 0.796\n"
     ]
    }
   ],
   "source": [
    "# Approximate the variance of error\n",
    "r2_Lin = r2_score(yTest.values, y_predLin)\n",
    "print('Goodness of Fit: {0:.3f}'.format(r2_Lin))"
   ]
  },
  {
   "cell_type": "markdown",
   "metadata": {},
   "source": [
    "### Take-away\n",
    "An R-squared of 100% means that all movements of a dependent variable (or variables) are completely explained by movements in the independent variable(s)."
   ]
  },
  {
   "cell_type": "markdown",
   "metadata": {},
   "source": [
    "### The Model Coefficients\n",
    "Now that we have an idea of the model's performance we can observe the parameters, or coefficients, of the linear regression. "
   ]
  },
  {
   "cell_type": "code",
   "execution_count": 24,
   "metadata": {},
   "outputs": [
    {
     "name": "stdout",
     "output_type": "stream",
     "text": [
      "Coefficients(slope, bias):  [0.0034397  0.38717906]\n"
     ]
    }
   ],
   "source": [
    "# The model's coefficients\n",
    "print('Coefficients(slope, bias): ', linModel.coef_)"
   ]
  },
  {
   "cell_type": "markdown",
   "metadata": {},
   "source": [
    "## Examining the Effects of Each Variable\n",
    "The linear regression model previously created uses two features to approximate a single line. This can be difficult to visualize, so another means of examining the impact of the features on the regression is by seeing how the regression fits the two features individually."
   ]
  },
  {
   "cell_type": "code",
   "execution_count": 25,
   "metadata": {},
   "outputs": [
    {
     "data": {
      "image/png": "[encoded data removed]",
      "text/plain": [
       "<Figure size 1080x1080 with 2 Axes>"
      ]
     },
     "metadata": {
      "needs_background": "light"
     },
     "output_type": "display_data"
    }
   ],
   "source": [
    "import numpy as np\n",
    "fig, axes = plt.subplots(1,len(xTrain.columns.values),sharey=True,constrained_layout=True,figsize=(15,15))\n",
    "for i,e in enumerate(xTrain.columns):\n",
    "  linModel.fit(xTrain[e].values[:,np.newaxis], yTrain.values)\n",
    "  axes[i].set_title(\"Linear Regression of Feature\", fontsize=14)\n",
    "  axes[i].set_xlabel(str(e), fontsize=14)\n",
    "  axes[i].set_ylabel('Prob. of Admit.', fontsize=14)\n",
    "  axes[i].scatter(xTrain[e].values[:,np.newaxis], yTrain.values,color='b')\n",
    "  axes[i].plot(xTrain[e].values[:,np.newaxis], \n",
    "  linModel.predict(xTrain[e].values[:,np.newaxis]),color='k', linewidth=2)\n",
    "plt.show()"
   ]
  }
 ],
 "metadata": {
  "gist": {
   "data": {
    "description": "slideshow_linear_tutorial.ipynb",
    "public": true
   },
   "id": ""
  },
  "kernelspec": {
   "display_name": "Python 3",
   "language": "python",
   "name": "python3"
  },
  "language_info": {
   "codemirror_mode": {
    "name": "ipython",
    "version": 3
   },
   "file_extension": ".py",
   "mimetype": "text/x-python",
   "name": "python",
   "nbconvert_exporter": "python",
   "pygments_lexer": "ipython3",
   "version": "3.7.10"
  }
 },
 "nbformat": 4,
 "nbformat_minor": 2
}
