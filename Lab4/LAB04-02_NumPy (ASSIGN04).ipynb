{
 "cells": [
  {
   "cell_type": "markdown",
   "metadata": {},
   "source": [
    "<h1 id=\"types_objects\" align=\"center\">Practice with NumPy</h1>\n",
    "\n",
    "**If you have never studied linear algebra** you may find this notebook to be overly difficult. Let me know if that´s the case while we are in the lab. Linear algebra is at the basis of data science and machine learning, which makes extensive use of matrix formalism. However, Python is solving all linear algebra problems for you.\n",
    "\n",
    "Fill in the missing code in the exercises and submit this notebook as part of your Assignment 3.<br>\n",
    "Go as far down the list as you can.\n",
    "\n",
    "This is a collection of exercises that have been gathered online and in the NumPy documentation. These are meant to be solved on your own during the lab or at home.<br>\n",
    "\n",
    "Each exercise is tagged with stars, showing the level of challenge.<br>\n",
    " (★☆☆) easy<br>\n",
    " (★★☆) medium difficulty<br>\n",
    " (★★★) advanced <br>\n",
    " \n",
    "If you encouter difficulties, check my notebooks. <br>\n",
    "If you still encounter difficulties, check the online documentation.<br>\n",
    "\n",
    "\n",
    "### N.B.: the following exercises are also meant for you to familiarise with functions and operations that have not been introduced in class\n",
    "#### Please refer to the NumPy official documentation to find out how to solve as many cases as you can.\n",
    "https://docs.scipy.org/doc/numpy/"
   ]
  },
  {
   "cell_type": "markdown",
   "metadata": {},
   "source": [
    "#### 1. Import the numpy package under the name `np` (★☆☆)"
   ]
  },
  {
   "cell_type": "code",
   "execution_count": 2,
   "metadata": {},
   "outputs": [],
   "source": [
    "import numpy as np"
   ]
  },
  {
   "cell_type": "markdown",
   "metadata": {},
   "source": [
    "#### 2. Print the numpy version and the configuration (★☆☆)"
   ]
  },
  {
   "cell_type": "code",
   "execution_count": 4,
   "metadata": {},
   "outputs": [
    {
     "data": {
      "text/plain": [
       "'1.17.3'"
      ]
     },
     "execution_count": 4,
     "metadata": {},
     "output_type": "execute_result"
    }
   ],
   "source": [
    "np.version.version"
   ]
  },
  {
   "cell_type": "markdown",
   "metadata": {},
   "source": [
    "#### 3. Create a null vector of size 10 (★☆☆)"
   ]
  },
  {
   "cell_type": "code",
   "execution_count": 8,
   "metadata": {},
   "outputs": [
    {
     "name": "stdout",
     "output_type": "stream",
     "text": [
      "[0. 0. 0. 0. 0. 0. 0. 0. 0. 0.]\n"
     ]
    }
   ],
   "source": [
    "x = np.zeros(10)\n",
    "print(x)"
   ]
  },
  {
   "cell_type": "markdown",
   "metadata": {},
   "source": [
    "#### 4.  How to find the memory size of any array (★☆☆)"
   ]
  },
  {
   "cell_type": "code",
   "execution_count": 7,
   "metadata": {},
   "outputs": [
    {
     "data": {
      "text/plain": [
       "176"
      ]
     },
     "execution_count": 7,
     "metadata": {},
     "output_type": "execute_result"
    }
   ],
   "source": [
    "import sys\n",
    "sys.getsizeof(x)"
   ]
  },
  {
   "cell_type": "markdown",
   "metadata": {},
   "source": [
    "#### 6.  Create a null vector of size 10 but the fifth value which is 1 (★☆☆)"
   ]
  },
  {
   "cell_type": "code",
   "execution_count": 10,
   "metadata": {},
   "outputs": [
    {
     "name": "stdout",
     "output_type": "stream",
     "text": [
      "[0. 0. 0. 0. 1. 0. 0. 0. 0. 0.]\n"
     ]
    }
   ],
   "source": [
    "y = np.zeros(10)\n",
    "y[4] = 1\n",
    "print(y)"
   ]
  },
  {
   "cell_type": "markdown",
   "metadata": {},
   "source": [
    "#### 7.  Create a vector with values ranging from 10 to 49 (★☆☆)"
   ]
  },
  {
   "cell_type": "code",
   "execution_count": 12,
   "metadata": {},
   "outputs": [
    {
     "name": "stdout",
     "output_type": "stream",
     "text": [
      "[10 11 12 13 14 15 16 17 18 19 20 21 22 23 24 25 26 27 28 29 30 31 32 33\n",
      " 34 35 36 37 38 39 40 41 42 43 44 45 46 47 48 49]\n"
     ]
    }
   ],
   "source": [
    "z = np.array(range(10, 50))\n",
    "print(z)"
   ]
  },
  {
   "cell_type": "markdown",
   "metadata": {},
   "source": [
    "#### 8.  Reverse a vector (first element becomes last) (★☆☆)"
   ]
  },
  {
   "cell_type": "code",
   "execution_count": 13,
   "metadata": {},
   "outputs": [
    {
     "data": {
      "text/plain": [
       "array([49, 48, 47, 46, 45, 44, 43, 42, 41, 40, 39, 38, 37, 36, 35, 34, 33,\n",
       "       32, 31, 30, 29, 28, 27, 26, 25, 24, 23, 22, 21, 20, 19, 18, 17, 16,\n",
       "       15, 14, 13, 12, 11, 10])"
      ]
     },
     "execution_count": 13,
     "metadata": {},
     "output_type": "execute_result"
    }
   ],
   "source": [
    "np.flip(z)"
   ]
  },
  {
   "cell_type": "markdown",
   "metadata": {},
   "source": [
    "#### 9.  Create a 3x3 matrix with values ranging from 0 to 8 (★☆☆)"
   ]
  },
  {
   "cell_type": "code",
   "execution_count": 17,
   "metadata": {},
   "outputs": [
    {
     "name": "stdout",
     "output_type": "stream",
     "text": [
      "[[0 1 2]\n",
      " [3 4 5]\n",
      " [6 7 8]]\n"
     ]
    }
   ],
   "source": [
    "a = np.arange(9).reshape((3, 3))\n",
    "print(a)"
   ]
  },
  {
   "cell_type": "markdown",
   "metadata": {},
   "source": [
    "#### 10. Find indices of non-zero elements from \\[1,2,0,0,4,0\\] (★☆☆)"
   ]
  },
  {
   "cell_type": "code",
   "execution_count": 23,
   "metadata": {},
   "outputs": [
    {
     "data": {
      "text/plain": [
       "(array([0, 1, 4], dtype=int64),)"
      ]
     },
     "execution_count": 23,
     "metadata": {},
     "output_type": "execute_result"
    }
   ],
   "source": [
    "np.nonzero([1,2,0,0,4,0])"
   ]
  },
  {
   "cell_type": "markdown",
   "metadata": {},
   "source": [
    "#### 11. Create a 3x3 identity matrix (★☆☆)"
   ]
  },
  {
   "cell_type": "code",
   "execution_count": 24,
   "metadata": {},
   "outputs": [
    {
     "data": {
      "text/plain": [
       "array([[1., 0., 0.],\n",
       "       [0., 1., 0.],\n",
       "       [0., 0., 1.]])"
      ]
     },
     "execution_count": 24,
     "metadata": {},
     "output_type": "execute_result"
    }
   ],
   "source": [
    "np.identity(3)"
   ]
  },
  {
   "cell_type": "markdown",
   "metadata": {},
   "source": [
    "#### 12. Create a 3x3x3 array with random values (★☆☆)"
   ]
  },
  {
   "cell_type": "code",
   "execution_count": 27,
   "metadata": {},
   "outputs": [
    {
     "data": {
      "text/plain": [
       "array([[[6.55097259e-01, 8.14146107e-01, 7.18059748e-01],\n",
       "        [9.29594168e-01, 5.63910940e-01, 5.13143262e-01],\n",
       "        [2.50860623e-01, 3.96334355e-01, 7.88927210e-01]],\n",
       "\n",
       "       [[2.63535620e-02, 2.34084133e-04, 2.39658840e-01],\n",
       "        [5.59998847e-01, 7.46891345e-01, 9.32815529e-01],\n",
       "        [6.64181815e-01, 7.76703699e-01, 1.83932696e-01]],\n",
       "\n",
       "       [[3.92473605e-01, 7.11325439e-02, 6.25766149e-01],\n",
       "        [5.67340598e-01, 7.10783538e-01, 4.88572833e-01],\n",
       "        [9.74258580e-01, 1.15268963e-01, 6.11380181e-01]]])"
      ]
     },
     "execution_count": 27,
     "metadata": {},
     "output_type": "execute_result"
    }
   ],
   "source": [
    "np.random.rand(3, 3, 3)"
   ]
  },
  {
   "cell_type": "markdown",
   "metadata": {},
   "source": [
    "#### 13. Create a 10x10 array with random values and find the minimum and maximum values (★☆☆)"
   ]
  },
  {
   "cell_type": "code",
   "execution_count": 32,
   "metadata": {},
   "outputs": [
    {
     "name": "stdout",
     "output_type": "stream",
     "text": [
      "[[0.55086579 0.90417998 0.95935926 0.78669081 0.49810031 0.49425372\n",
      "  0.16478554 0.93332802 0.89961556 0.85353413]\n",
      " [0.15114288 0.61964125 0.25928257 0.42251288 0.70382046 0.81691794\n",
      "  0.37400702 0.0303236  0.33286477 0.68097846]\n",
      " [0.66018133 0.65273736 0.2657219  0.08920669 0.74220717 0.01795081\n",
      "  0.02260879 0.08118661 0.60213229 0.43841009]\n",
      " [0.55685763 0.51319395 0.60790295 0.31572086 0.64442127 0.63596689\n",
      "  0.39357011 0.68756055 0.88425624 0.54568687]\n",
      " [0.64332078 0.29211202 0.99336605 0.38081805 0.45337409 0.44250996\n",
      "  0.99556536 0.33581252 0.27401692 0.09415125]\n",
      " [0.14052933 0.88937517 0.09987342 0.11990798 0.38720522 0.50301125\n",
      "  0.78430199 0.83137023 0.06499418 0.77240834]\n",
      " [0.94382147 0.26104163 0.75638113 0.89183717 0.08103323 0.33931979\n",
      "  0.38803446 0.20745277 0.13393864 0.94650839]\n",
      " [0.21309308 0.76938079 0.42921455 0.09549242 0.72387356 0.03820136\n",
      "  0.5101414  0.02468474 0.82799739 0.84916937]\n",
      " [0.35670335 0.87017748 0.67098792 0.57815756 0.63086608 0.51616766\n",
      "  0.46520464 0.98736881 0.16951216 0.90051233]\n",
      " [0.75574153 0.44093995 0.40182324 0.19926245 0.64999782 0.62413609\n",
      "  0.08589864 0.50478169 0.85923148 0.98189771]]\n",
      "0.01795081086863115\n",
      "0.9955653629012379\n"
     ]
    }
   ],
   "source": [
    "ten = np.random.rand(10, 10)\n",
    "print(ten)\n",
    "\n",
    "print(np.min(ten))\n",
    "print(np.max(ten))"
   ]
  },
  {
   "cell_type": "markdown",
   "metadata": {},
   "source": [
    "#### 14. Create a random vector of size 30 and find the mean value (★☆☆)"
   ]
  },
  {
   "cell_type": "code",
   "execution_count": 34,
   "metadata": {},
   "outputs": [
    {
     "data": {
      "text/plain": [
       "0.4078733804931749"
      ]
     },
     "execution_count": 34,
     "metadata": {},
     "output_type": "execute_result"
    }
   ],
   "source": [
    "np.mean(np.random.rand(30))"
   ]
  },
  {
   "cell_type": "markdown",
   "metadata": {},
   "source": [
    "#### 15. Create a 2d array with 1 on the border and 0 inside (★☆☆)"
   ]
  },
  {
   "cell_type": "code",
   "execution_count": 37,
   "metadata": {},
   "outputs": [
    {
     "data": {
      "text/plain": [
       "array([[1., 1., 1., 1., 1.],\n",
       "       [1., 0., 0., 0., 1.],\n",
       "       [1., 0., 0., 0., 1.],\n",
       "       [1., 0., 0., 0., 1.],\n",
       "       [1., 1., 1., 1., 1.]])"
      ]
     },
     "execution_count": 37,
     "metadata": {},
     "output_type": "execute_result"
    }
   ],
   "source": [
    "border = np.ones((5,5))\n",
    "border[1:-1,1:-1] = 0\n",
    "border"
   ]
  },
  {
   "cell_type": "markdown",
   "metadata": {},
   "source": [
    "#### 16. How to add a border (filled with 0's) around an existing array? (★☆☆)"
   ]
  },
  {
   "cell_type": "code",
   "execution_count": 53,
   "metadata": {},
   "outputs": [
    {
     "data": {
      "text/plain": [
       "array([[1., 1., 1., 1., 1., 1., 1.],\n",
       "       [1., 0., 0., 0., 0., 0., 1.],\n",
       "       [1., 0., 0., 0., 0., 0., 1.],\n",
       "       [1., 0., 0., 0., 0., 0., 1.],\n",
       "       [1., 0., 0., 0., 0., 0., 1.],\n",
       "       [1., 0., 0., 0., 0., 0., 1.],\n",
       "       [1., 1., 1., 1., 1., 1., 1.]])"
      ]
     },
     "execution_count": 53,
     "metadata": {},
     "output_type": "execute_result"
    }
   ],
   "source": [
    "another_border = np.zeros((5,5))\n",
    "np.pad(another_border, pad_width=1, mode='constant', constant_values=1)"
   ]
  },
  {
   "cell_type": "markdown",
   "metadata": {},
   "source": [
    "#### 18. Create a 5x5 matrix with values 1,2,3,4 just below the diagonal (★☆☆)"
   ]
  },
  {
   "cell_type": "code",
   "execution_count": 54,
   "metadata": {},
   "outputs": [
    {
     "data": {
      "text/plain": [
       "array([[1, 0, 0, 0, 0],\n",
       "       [0, 2, 0, 0, 0],\n",
       "       [0, 0, 3, 0, 0],\n",
       "       [0, 0, 0, 4, 0],\n",
       "       [0, 0, 0, 0, 5]])"
      ]
     },
     "execution_count": 54,
     "metadata": {},
     "output_type": "execute_result"
    }
   ],
   "source": [
    "np.diag([1, 2, 3, 4, 5])"
   ]
  },
  {
   "cell_type": "markdown",
   "metadata": {},
   "source": [
    "#### 19. Create a 8x8 matrix and fill it with a checkerboard pattern (★☆☆)"
   ]
  },
  {
   "cell_type": "code",
   "execution_count": 59,
   "metadata": {},
   "outputs": [
    {
     "data": {
      "text/plain": [
       "array([[0, 1, 0, 1, 0, 1, 0, 1],\n",
       "       [1, 0, 1, 0, 1, 0, 1, 0],\n",
       "       [0, 1, 0, 1, 0, 1, 0, 1],\n",
       "       [1, 0, 1, 0, 1, 0, 1, 0],\n",
       "       [0, 1, 0, 1, 0, 1, 0, 1],\n",
       "       [1, 0, 1, 0, 1, 0, 1, 0],\n",
       "       [0, 1, 0, 1, 0, 1, 0, 1],\n",
       "       [1, 0, 1, 0, 1, 0, 1, 0]], dtype=int32)"
      ]
     },
     "execution_count": 59,
     "metadata": {},
     "output_type": "execute_result"
    }
   ],
   "source": [
    "np.indices([8,8]).sum(axis=0) % 2\n"
   ]
  },
  {
   "cell_type": "markdown",
   "metadata": {},
   "source": [
    "#### 24. Multiply a 5x3 matrix by a 3x2 matrix (real matrix product) (★☆☆)"
   ]
  },
  {
   "cell_type": "code",
   "execution_count": 61,
   "metadata": {},
   "outputs": [
    {
     "data": {
      "text/plain": [
       "array([[0.69408622, 0.37072664],\n",
       "       [0.57076265, 0.70238929],\n",
       "       [0.95116249, 1.2258453 ],\n",
       "       [0.84035664, 0.89498872],\n",
       "       [0.90926808, 0.48582362]])"
      ]
     },
     "execution_count": 61,
     "metadata": {},
     "output_type": "execute_result"
    }
   ],
   "source": [
    "np.dot(np.random.rand(5, 3), np.random.rand(3, 2))"
   ]
  },
  {
   "cell_type": "markdown",
   "metadata": {},
   "source": [
    "#### 25. Given a 1D array, negate all elements which are between 3 and 8, in place. (★☆☆)"
   ]
  },
  {
   "cell_type": "code",
   "execution_count": 63,
   "metadata": {},
   "outputs": [
    {
     "data": {
      "text/plain": [
       "array([-5, -4, -3, -2, -1,  0,  1,  2, -3, -4, -5, -6, -7, -8,  9, 10, 11,\n",
       "       12, 13, 14, 15, 16, 17, 18, 19, 20, 21, 22, 23, 24, 25, 26, 27, 28,\n",
       "       29, 30, 31, 32, 33, 34, 35, 36, 37, 38, 39, 40, 41, 42, 43, 44, 45,\n",
       "       46, 47, 48, 49, 50, 51, 52, 53, 54, 55, 56, 57, 58, 59, 60, 61, 62,\n",
       "       63, 64, 65, 66, 67, 68, 69, 70, 71, 72, 73, 74, 75, 76, 77, 78, 79,\n",
       "       80, 81, 82, 83, 84, 85, 86, 87, 88, 89, 90, 91, 92, 93, 94, 95, 96,\n",
       "       97, 98, 99])"
      ]
     },
     "execution_count": 63,
     "metadata": {},
     "output_type": "execute_result"
    }
   ],
   "source": [
    "arr = np.array(range(-5, 100))\n",
    "\n",
    "m = (arr > 2) & (arr < 9)\n",
    "arr[m] *= -1\n",
    "\n",
    "arr"
   ]
  },
  {
   "cell_type": "markdown",
   "metadata": {},
   "source": [
    "#### 34. How to get all the dates corresponding to the month of July 2016? (★★☆)"
   ]
  },
  {
   "cell_type": "code",
   "execution_count": 66,
   "metadata": {},
   "outputs": [
    {
     "name": "stdout",
     "output_type": "stream",
     "text": [
      "['2012-07-01' '2012-07-02' '2012-07-03' ... '2020-07-29' '2020-07-30'\n",
      " '2020-07-31']\n"
     ]
    }
   ],
   "source": [
    "print(np.arange('2012-07', '2020-08', dtype='datetime64[D]'))"
   ]
  },
  {
   "cell_type": "markdown",
   "metadata": {},
   "source": [
    "#### 35. How to compute ((A+B)\\*(-A/2)) ? (★★☆)"
   ]
  },
  {
   "cell_type": "code",
   "execution_count": 72,
   "metadata": {},
   "outputs": [
    {
     "data": {
      "text/plain": [
       "array([[-21. , -30. ],\n",
       "       [-16.5, -21. ]])"
      ]
     },
     "execution_count": 72,
     "metadata": {},
     "output_type": "execute_result"
    }
   ],
   "source": [
    "A = np.array([[1, 4], [5,2]])\n",
    "B = np.array([[11, 2], [3,3]])\n",
    "\n",
    "np.dot((A + B),((-A)/2))"
   ]
  },
  {
   "cell_type": "markdown",
   "metadata": {},
   "source": [
    "#### 36. Extract the integer part of a random array (★☆☆)"
   ]
  },
  {
   "cell_type": "code",
   "execution_count": null,
   "metadata": {},
   "outputs": [],
   "source": []
  },
  {
   "cell_type": "markdown",
   "metadata": {},
   "source": [
    "#### 37. Create a 5x5 matrix with row values ranging from 0 to 4 (★★☆)"
   ]
  },
  {
   "cell_type": "code",
   "execution_count": 76,
   "metadata": {},
   "outputs": [
    {
     "data": {
      "text/plain": [
       "array([[0., 1., 2., 3., 4.],\n",
       "       [0., 1., 2., 3., 4.],\n",
       "       [0., 1., 2., 3., 4.],\n",
       "       [0., 1., 2., 3., 4.],\n",
       "       [0., 1., 2., 3., 4.]])"
      ]
     },
     "execution_count": 76,
     "metadata": {},
     "output_type": "execute_result"
    }
   ],
   "source": [
    "np.zeros(25).reshape((5, 5)) + np.arange(5)"
   ]
  },
  {
   "cell_type": "markdown",
   "metadata": {},
   "source": [
    "#### 39. Create a vector of size 10 with values ranging from 0 to 1, both excluded (★★☆)"
   ]
  },
  {
   "cell_type": "code",
   "execution_count": 82,
   "metadata": {},
   "outputs": [
    {
     "data": {
      "text/plain": [
       "array([0.05, 0.15, 0.25, 0.35, 0.45, 0.55, 0.65, 0.75, 0.85, 0.95])"
      ]
     },
     "execution_count": 82,
     "metadata": {},
     "output_type": "execute_result"
    }
   ],
   "source": [
    "np.arange(0.05, 1, 0.1)"
   ]
  },
  {
   "cell_type": "markdown",
   "metadata": {},
   "source": [
    "#### 40. Create a random vector of size 10 and sort it (★★☆)"
   ]
  },
  {
   "cell_type": "code",
   "execution_count": 89,
   "metadata": {},
   "outputs": [
    {
     "data": {
      "text/plain": [
       "array([0.18885528, 0.25581667, 0.26849197, 0.3413642 , 0.62666067,\n",
       "       0.66533026, 0.67686378, 0.77211622, 0.7967227 , 0.9149979 ])"
      ]
     },
     "execution_count": 89,
     "metadata": {},
     "output_type": "execute_result"
    }
   ],
   "source": [
    "np.sort(np.random.rand(10))\n"
   ]
  },
  {
   "cell_type": "markdown",
   "metadata": {},
   "source": [
    "#### 42. Consider two random arrays A and B, check if they are equal (★★☆)"
   ]
  },
  {
   "cell_type": "code",
   "execution_count": 92,
   "metadata": {},
   "outputs": [
    {
     "data": {
      "text/plain": [
       "False"
      ]
     },
     "execution_count": 92,
     "metadata": {},
     "output_type": "execute_result"
    }
   ],
   "source": [
    "sum(np.random.rand(10) == np.random.rand(10)) != 0"
   ]
  },
  {
   "cell_type": "markdown",
   "metadata": {},
   "source": [
    "#### 45. Create random vector of size 10 and replace the maximum value by 0 (★★☆)"
   ]
  },
  {
   "cell_type": "code",
   "execution_count": 101,
   "metadata": {},
   "outputs": [
    {
     "name": "stdout",
     "output_type": "stream",
     "text": [
      "[0.26476329 0.96807674 0.35853313 0.69044192 0.4659545  0.93790047\n",
      " 0.51825833 0.75117063 0.57793933 0.490044  ]\n",
      "[0.26476329 0.         0.35853313 0.69044192 0.4659545  0.93790047\n",
      " 0.51825833 0.75117063 0.57793933 0.490044  ]\n"
     ]
    }
   ],
   "source": [
    "r = np.random.rand(10)\n",
    "print(r)\n",
    "r[np.where(r == np.max(r))] = 0\n",
    "\n",
    "print(r)"
   ]
  },
  {
   "cell_type": "markdown",
   "metadata": {},
   "source": [
    "#### 46. Create a structured array with `x` and `y` coordinates covering the \\[0,1\\]x\\[0,1\\] area (★★☆)"
   ]
  },
  {
   "cell_type": "code",
   "execution_count": null,
   "metadata": {},
   "outputs": [],
   "source": []
  },
  {
   "cell_type": "markdown",
   "metadata": {},
   "source": [
    "#### 50. How to find the closest value (to a given scalar) in a vector? (★★☆)"
   ]
  },
  {
   "cell_type": "code",
   "execution_count": 107,
   "metadata": {},
   "outputs": [
    {
     "name": "stdout",
     "output_type": "stream",
     "text": [
      "[0.62302626 0.38327416 0.53982184 0.65768406 0.36636175 0.22967703\n",
      " 0.15860665 0.40974876 0.15371136 0.61162321 0.72438084 0.38473097\n",
      " 0.93564673 0.02091479 0.0807816  0.3707608  0.61846089 0.75567209\n",
      " 0.65092834 0.14010243 0.70148859 0.02903284 0.84642613 0.69163994\n",
      " 0.39436938 0.66386789 0.05491597 0.7334135  0.11391402 0.77370121\n",
      " 0.37860265 0.48651979 0.8517513  0.67849608 0.00907183 0.87615134\n",
      " 0.55598374 0.86441992 0.00438967 0.26396827 0.0506441  0.44735678\n",
      " 0.20192374 0.02262037 0.58798324 0.50787617 0.23002707 0.75891294\n",
      " 0.93678227 0.92684344 0.88234498 0.05961602 0.16405306 0.71287478\n",
      " 0.73703083 0.14539744 0.09796111 0.84518745 0.52216218 0.50297644\n",
      " 0.5825092  0.10119999 0.88025771 0.07571383 0.0990901  0.45187339\n",
      " 0.5833035  0.04905256 0.71198638 0.89254287 0.14805695 0.53296321\n",
      " 0.12179448 0.04539764 0.2151689  0.92781356 0.6819699  0.93270162\n",
      " 0.965006   0.87205332 0.93196198 0.47165733 0.08854319 0.2956852\n",
      " 0.37422419 0.10385985 0.89423851 0.20323863 0.44692476 0.50427879\n",
      " 0.2642541  0.69892847 0.80622039 0.8558446  0.8864857  0.71508889\n",
      " 0.24576093 0.30869926 0.51113351 0.75295858]\n"
     ]
    },
    {
     "data": {
      "text/plain": [
       "(array([59], dtype=int64),)"
      ]
     },
     "execution_count": 107,
     "metadata": {},
     "output_type": "execute_result"
    }
   ],
   "source": [
    "vec = np.random.rand(100)\n",
    "print(vec)\n",
    "sc = 0.5\n",
    "\n",
    "np.where((vec - sc) == np.min(np.absolute(vec - sc)))"
   ]
  },
  {
   "cell_type": "markdown",
   "metadata": {},
   "source": [
    "#### 55. What is the equivalent of enumerate for numpy arrays? (★★☆)"
   ]
  },
  {
   "cell_type": "code",
   "execution_count": 110,
   "metadata": {},
   "outputs": [
    {
     "name": "stdout",
     "output_type": "stream",
     "text": [
      "<numpy.ndenumerate object at 0x000001D7ADD14D48>\n"
     ]
    }
   ],
   "source": [
    "print(np.ndenumerate(np.array([[1, 2], [3, 4]])))"
   ]
  },
  {
   "cell_type": "markdown",
   "metadata": {},
   "source": [
    "#### 57. How to randomly place p elements in a 2D array? (★★☆)"
   ]
  },
  {
   "cell_type": "code",
   "execution_count": 12,
   "metadata": {},
   "outputs": [
    {
     "data": {
      "text/plain": [
       "array([[0.82724124, 0.71418722, 0.41729878, 0.06201532, 0.36040472,\n",
       "        0.66428886, 0.31191372, 0.24123889, 0.87441737, 0.5619632 ],\n",
       "       [0.9683866 , 0.72474592, 0.53359939, 0.02218721, 0.96975736,\n",
       "        0.38450273, 0.23120572, 0.32890818, 0.57200828, 0.93749197],\n",
       "       [0.72964114, 0.48967895, 0.91025724, 0.42879711, 0.44333532,\n",
       "        0.24909992, 0.02021468, 0.15497778, 0.30336033, 0.84407581],\n",
       "       [0.94951077, 0.34315818, 0.22120532, 0.94135809, 0.32720651,\n",
       "        0.06797173, 0.98183619, 0.5672012 , 0.16420241, 0.81727552],\n",
       "       [0.71203818, 0.80896117, 0.27901941, 0.19036706, 0.43552571,\n",
       "        0.99819016, 0.71524895, 0.48315463, 0.88001954, 0.72032513],\n",
       "       [0.96194989, 0.88288463, 0.92515002, 0.43620199, 0.97901395,\n",
       "        0.26491697, 0.88099468, 0.448707  , 0.33923161, 0.9432559 ],\n",
       "       [0.45385653, 0.76980246, 0.98498729, 0.46062752, 0.10596243,\n",
       "        0.31551145, 0.45378852, 0.65541215, 0.35436706, 0.34590005],\n",
       "       [0.56433465, 0.95280515, 0.32162862, 0.07585243, 0.10505652,\n",
       "        0.84970967, 0.85330113, 0.73546867, 0.52033187, 0.6088657 ],\n",
       "       [0.75789877, 0.85242967, 0.03572424, 0.46996406, 0.21013102,\n",
       "        0.71167137, 0.8285824 , 0.07747407, 0.65407094, 0.49215082],\n",
       "       [0.01661894, 0.24756111, 0.35873143, 0.78885557, 0.7354312 ,\n",
       "        0.25351   , 0.06492541, 0.93582928, 0.70881805, 0.05998077]])"
      ]
     },
     "execution_count": 12,
     "metadata": {},
     "output_type": "execute_result"
    }
   ],
   "source": [
    "import math\n",
    "p = 100\n",
    "n = int(math.sqrt(p))\n",
    "\n",
    "np.random.rand(p).reshape((n, n))"
   ]
  },
  {
   "cell_type": "markdown",
   "metadata": {},
   "source": [
    "#### 58. Subtract the mean of each row of a matrix (★★☆)"
   ]
  },
  {
   "cell_type": "code",
   "execution_count": 14,
   "metadata": {},
   "outputs": [
    {
     "data": {
      "text/plain": [
       "array([[ 0.04615784, -0.36240968, -0.49303614,  0.01201568,  0.42545831,\n",
       "        -0.22916865,  0.39028596, -0.10102561, -0.59331389,  0.03685236],\n",
       "       [ 0.13665307,  0.07474381,  0.01262227, -0.27206121,  0.22712673,\n",
       "         0.1238291 ,  0.04939494, -0.14004667,  0.14158156, -0.02311693],\n",
       "       [-0.49858099,  0.04591405,  0.11294631,  0.20622608, -0.46387847,\n",
       "        -0.47792376, -0.17226507,  0.37619278,  0.21949519,  0.36568196],\n",
       "       [-0.0440274 , -0.15988907, -0.19569768, -0.17865501,  0.02399877,\n",
       "        -0.41972786, -0.15991505,  0.09740133, -0.0243605 ,  0.26742139],\n",
       "       [ 0.14217276,  0.17952639, -0.38294948,  0.18252784, -0.2785352 ,\n",
       "         0.34957821,  0.24974685,  0.06719244,  0.08437458, -0.48793053],\n",
       "       [ 0.22439388, -0.15990083,  0.10254984,  0.20502796, -0.4088395 ,\n",
       "         0.17622015, -0.38372288,  0.29669657,  0.00419161, -0.00723514],\n",
       "       [ 0.27304475, -0.20116482,  0.32705517,  0.14532968,  0.23355545,\n",
       "        -0.01230605,  0.16985441, -0.30139438, -0.27723008,  0.01720656],\n",
       "       [-0.30704194, -0.08131039,  0.35607507,  0.17163876, -0.25588147,\n",
       "         0.48681176, -0.11138684, -0.31508997,  0.21107394, -0.33847919],\n",
       "       [-0.19682643,  0.37860165,  0.06625138,  0.10474084,  0.13319748,\n",
       "         0.4476331 , -0.30750141, -0.01393884,  0.32537802, -0.07444688],\n",
       "       [ 0.22405446,  0.2858889 ,  0.09418325, -0.57679061,  0.3637979 ,\n",
       "        -0.444946  ,  0.27550907,  0.03401237, -0.09119044,  0.24404641]])"
      ]
     },
     "execution_count": 14,
     "metadata": {},
     "output_type": "execute_result"
    }
   ],
   "source": [
    "arr = np.random.rand(p).reshape((n, n))\n",
    "\n",
    "arr - np.mean(arr, axis = 0)\n"
   ]
  },
  {
   "cell_type": "markdown",
   "metadata": {},
   "source": [
    "#### 60. How to tell if a given 2D array has null columns? (★★☆)"
   ]
  },
  {
   "cell_type": "code",
   "execution_count": 40,
   "metadata": {},
   "outputs": [
    {
     "data": {
      "text/plain": [
       "True"
      ]
     },
     "execution_count": 40,
     "metadata": {},
     "output_type": "execute_result"
    }
   ],
   "source": [
    "nc = np.random.randint(0,2,(3,3))\n",
    "\n",
    "\n",
    "sum(np.sum(nc, axis = 1) == 0) > 0\n",
    "\n"
   ]
  },
  {
   "cell_type": "markdown",
   "metadata": {},
   "source": [
    "#### 69. How to get the diagonal of a dot product? (★★★)"
   ]
  },
  {
   "cell_type": "code",
   "execution_count": 42,
   "metadata": {},
   "outputs": [
    {
     "data": {
      "text/plain": [
       "array([8572, 8757, 5447, 2392])"
      ]
     },
     "execution_count": 42,
     "metadata": {},
     "output_type": "execute_result"
    }
   ],
   "source": [
    "A = np.random.randint(0, 100,(4,4))\n",
    "B = np.random.randint(0, 100,(4,4))\n",
    "\n",
    "np.diag(np.dot(A, B))"
   ]
  },
  {
   "cell_type": "markdown",
   "metadata": {},
   "source": [
    "#### 70. Consider the vector \\[1, 2, 3, 4, 5\\], how to build a new vector with 3 consecutive zeros interleaved between each value? (★★★)"
   ]
  },
  {
   "cell_type": "code",
   "execution_count": 63,
   "metadata": {},
   "outputs": [
    {
     "data": {
      "text/plain": [
       "array([1, 0, 0, 0, 2, 0, 0, 0, 3, 0, 0, 0, 4, 0, 0, 0, 5, 0, 0, 0])"
      ]
     },
     "execution_count": 63,
     "metadata": {},
     "output_type": "execute_result"
    }
   ],
   "source": [
    "vector = [1, 2, 3, 4, 5]\n",
    "\n",
    "np.ndarray.flatten(np.array([np.array((vector[o-1], 0,0,0)) for o in vector]))\n",
    "    "
   ]
  },
  {
   "cell_type": "markdown",
   "metadata": {},
   "source": [
    "#### 89. How to get the n largest values of an array (★★★)"
   ]
  },
  {
   "cell_type": "code",
   "execution_count": 74,
   "metadata": {},
   "outputs": [
    {
     "data": {
      "text/plain": [
       "array([93, 93, 93, 95, 98])"
      ]
     },
     "execution_count": 74,
     "metadata": {},
     "output_type": "execute_result"
    }
   ],
   "source": [
    "n = 5\n",
    "\n",
    "np.sort(np.random.randint(0,100, 100))[-n-1:-1]"
   ]
  },
  {
   "cell_type": "markdown",
   "metadata": {},
   "source": [
    "#### 94. Considering a 10x3 matrix, extract rows with unequal values (e.g. \\[2,2,3\\]) (★★★)"
   ]
  },
  {
   "cell_type": "code",
   "execution_count": 109,
   "metadata": {},
   "outputs": [
    {
     "name": "stdout",
     "output_type": "stream",
     "text": [
      "(10, 3)\n",
      "[[0 1 0]\n",
      " [1 0 1]\n",
      " [0 1 2]\n",
      " [0 2 0]\n",
      " [2 2 1]\n",
      " [1 0 0]\n",
      " [2 2 2]\n",
      " [1 2 1]\n",
      " [1 2 1]\n",
      " [0 1 0]]\n",
      "[False False False False False False  True False False False]\n"
     ]
    },
    {
     "data": {
      "text/plain": [
       "array([[2, 2, 2]])"
      ]
     },
     "execution_count": 109,
     "metadata": {},
     "output_type": "execute_result"
    }
   ],
   "source": [
    "mat = np.random.randint(0,3, (10,3))\n",
    "print(np.shape(mat))\n",
    "print(mat)\n",
    "print((mat[:, 0] - mat[:, 1] == 0) * (mat[:, 1] - mat[:, 2] == 0) == 1)\n",
    "\n",
    "mat[(mat[:, 0] - mat[:, 1] == 0) * (mat[:, 1] - mat[:, 2] == 0) == 1, :]"
   ]
  },
  {
   "cell_type": "code",
   "execution_count": null,
   "metadata": {},
   "outputs": [],
   "source": []
  }
 ],
 "metadata": {
  "kernelspec": {
   "display_name": "Python 3",
   "language": "python",
   "name": "python3"
  },
  "language_info": {
   "codemirror_mode": {
    "name": "ipython",
    "version": 3
   },
   "file_extension": ".py",
   "mimetype": "text/x-python",
   "name": "python",
   "nbconvert_exporter": "python",
   "pygments_lexer": "ipython3",
   "version": "3.7.10"
  }
 },
 "nbformat": 4,
 "nbformat_minor": 1
}
